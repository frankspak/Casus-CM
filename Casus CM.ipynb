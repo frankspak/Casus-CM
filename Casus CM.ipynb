{
 "cells": [
  {
   "cell_type": "markdown",
   "metadata": {},
   "source": [
    "# onderzoeksvragen:\n",
    "\n",
    " - In hoeverre is de omzet van een film te voorspellen op basis van de populariteit op Facebook en IMDB zelf?\n",
    " - welke kenmerken van een film bepalen de imdb score?\n",
    " - Welke genres zijn over de loop van de jaren populairder geworden?\n",
    " - In hoeverre heeft de release date van een sequel invloed om de IMDB score van die sequel?\n"
   ]
  },
  {
   "cell_type": "code",
   "execution_count": 1,
   "metadata": {},
   "outputs": [],
   "source": [
    "# importeren van libaries.\n",
    "import pandas as pd\n",
    "import numpy as np\n",
    "import os\n",
    "from matplotlib import pyplot as plt\n",
    "import altair as alt\n",
    "from scipy import stats\n",
    "import seaborn as sns\n",
    "from scipy.integrate import quad\n",
    "import scipy\n",
    "import statistics\n",
    "from sklearn.cluster import KMeans\n",
    "from sklearn.preprocessing import MinMaxScaler\n",
    "from scipy.cluster.vq import whiten"
   ]
  },
  {
   "cell_type": "code",
   "execution_count": 2,
   "metadata": {},
   "outputs": [
    {
     "data": {
      "text/html": [
       "<div>\n",
       "<style scoped>\n",
       "    .dataframe tbody tr th:only-of-type {\n",
       "        vertical-align: middle;\n",
       "    }\n",
       "\n",
       "    .dataframe tbody tr th {\n",
       "        vertical-align: top;\n",
       "    }\n",
       "\n",
       "    .dataframe thead th {\n",
       "        text-align: right;\n",
       "    }\n",
       "</style>\n",
       "<table border=\"1\" class=\"dataframe\">\n",
       "  <thead>\n",
       "    <tr style=\"text-align: right;\">\n",
       "      <th></th>\n",
       "      <th>color</th>\n",
       "      <th>director_name</th>\n",
       "      <th>num_critic_for_reviews</th>\n",
       "      <th>duration</th>\n",
       "      <th>director_facebook_likes</th>\n",
       "      <th>actor_3_facebook_likes</th>\n",
       "      <th>actor_2_name</th>\n",
       "      <th>actor_1_facebook_likes</th>\n",
       "      <th>gross</th>\n",
       "      <th>genres</th>\n",
       "      <th>...</th>\n",
       "      <th>num_user_for_reviews</th>\n",
       "      <th>language</th>\n",
       "      <th>country</th>\n",
       "      <th>content_rating</th>\n",
       "      <th>budget</th>\n",
       "      <th>title_year</th>\n",
       "      <th>actor_2_facebook_likes</th>\n",
       "      <th>imdb_score</th>\n",
       "      <th>aspect_ratio</th>\n",
       "      <th>movie_facebook_likes</th>\n",
       "    </tr>\n",
       "  </thead>\n",
       "  <tbody>\n",
       "    <tr>\n",
       "      <th>0</th>\n",
       "      <td>Color</td>\n",
       "      <td>James Cameron</td>\n",
       "      <td>723.0</td>\n",
       "      <td>178.0</td>\n",
       "      <td>0.0</td>\n",
       "      <td>855.0</td>\n",
       "      <td>Joel David Moore</td>\n",
       "      <td>1000.0</td>\n",
       "      <td>760505847.0</td>\n",
       "      <td>Action|Adventure|Fantasy|Sci-Fi</td>\n",
       "      <td>...</td>\n",
       "      <td>3054.0</td>\n",
       "      <td>English</td>\n",
       "      <td>USA</td>\n",
       "      <td>PG-13</td>\n",
       "      <td>237000000.0</td>\n",
       "      <td>2009.0</td>\n",
       "      <td>936.0</td>\n",
       "      <td>7.9</td>\n",
       "      <td>1.78</td>\n",
       "      <td>33000</td>\n",
       "    </tr>\n",
       "    <tr>\n",
       "      <th>1</th>\n",
       "      <td>Color</td>\n",
       "      <td>Gore Verbinski</td>\n",
       "      <td>302.0</td>\n",
       "      <td>169.0</td>\n",
       "      <td>563.0</td>\n",
       "      <td>1000.0</td>\n",
       "      <td>Orlando Bloom</td>\n",
       "      <td>40000.0</td>\n",
       "      <td>309404152.0</td>\n",
       "      <td>Action|Adventure|Fantasy</td>\n",
       "      <td>...</td>\n",
       "      <td>1238.0</td>\n",
       "      <td>English</td>\n",
       "      <td>USA</td>\n",
       "      <td>PG-13</td>\n",
       "      <td>300000000.0</td>\n",
       "      <td>2007.0</td>\n",
       "      <td>5000.0</td>\n",
       "      <td>7.1</td>\n",
       "      <td>2.35</td>\n",
       "      <td>0</td>\n",
       "    </tr>\n",
       "    <tr>\n",
       "      <th>2</th>\n",
       "      <td>Color</td>\n",
       "      <td>Sam Mendes</td>\n",
       "      <td>602.0</td>\n",
       "      <td>148.0</td>\n",
       "      <td>0.0</td>\n",
       "      <td>161.0</td>\n",
       "      <td>Rory Kinnear</td>\n",
       "      <td>11000.0</td>\n",
       "      <td>200074175.0</td>\n",
       "      <td>Action|Adventure|Thriller</td>\n",
       "      <td>...</td>\n",
       "      <td>994.0</td>\n",
       "      <td>English</td>\n",
       "      <td>UK</td>\n",
       "      <td>PG-13</td>\n",
       "      <td>245000000.0</td>\n",
       "      <td>2015.0</td>\n",
       "      <td>393.0</td>\n",
       "      <td>6.8</td>\n",
       "      <td>2.35</td>\n",
       "      <td>85000</td>\n",
       "    </tr>\n",
       "    <tr>\n",
       "      <th>3</th>\n",
       "      <td>Color</td>\n",
       "      <td>Christopher Nolan</td>\n",
       "      <td>813.0</td>\n",
       "      <td>164.0</td>\n",
       "      <td>22000.0</td>\n",
       "      <td>23000.0</td>\n",
       "      <td>Christian Bale</td>\n",
       "      <td>27000.0</td>\n",
       "      <td>448130642.0</td>\n",
       "      <td>Action|Thriller</td>\n",
       "      <td>...</td>\n",
       "      <td>2701.0</td>\n",
       "      <td>English</td>\n",
       "      <td>USA</td>\n",
       "      <td>PG-13</td>\n",
       "      <td>250000000.0</td>\n",
       "      <td>2012.0</td>\n",
       "      <td>23000.0</td>\n",
       "      <td>8.5</td>\n",
       "      <td>2.35</td>\n",
       "      <td>164000</td>\n",
       "    </tr>\n",
       "    <tr>\n",
       "      <th>5</th>\n",
       "      <td>Color</td>\n",
       "      <td>Andrew Stanton</td>\n",
       "      <td>462.0</td>\n",
       "      <td>132.0</td>\n",
       "      <td>475.0</td>\n",
       "      <td>530.0</td>\n",
       "      <td>Samantha Morton</td>\n",
       "      <td>640.0</td>\n",
       "      <td>73058679.0</td>\n",
       "      <td>Action|Adventure|Sci-Fi</td>\n",
       "      <td>...</td>\n",
       "      <td>738.0</td>\n",
       "      <td>English</td>\n",
       "      <td>USA</td>\n",
       "      <td>PG-13</td>\n",
       "      <td>263700000.0</td>\n",
       "      <td>2012.0</td>\n",
       "      <td>632.0</td>\n",
       "      <td>6.6</td>\n",
       "      <td>2.35</td>\n",
       "      <td>24000</td>\n",
       "    </tr>\n",
       "  </tbody>\n",
       "</table>\n",
       "<p>5 rows × 28 columns</p>\n",
       "</div>"
      ],
      "text/plain": [
       "   color      director_name  num_critic_for_reviews  duration  \\\n",
       "0  Color      James Cameron                   723.0     178.0   \n",
       "1  Color     Gore Verbinski                   302.0     169.0   \n",
       "2  Color         Sam Mendes                   602.0     148.0   \n",
       "3  Color  Christopher Nolan                   813.0     164.0   \n",
       "5  Color     Andrew Stanton                   462.0     132.0   \n",
       "\n",
       "   director_facebook_likes  actor_3_facebook_likes      actor_2_name  \\\n",
       "0                      0.0                   855.0  Joel David Moore   \n",
       "1                    563.0                  1000.0     Orlando Bloom   \n",
       "2                      0.0                   161.0      Rory Kinnear   \n",
       "3                  22000.0                 23000.0    Christian Bale   \n",
       "5                    475.0                   530.0   Samantha Morton   \n",
       "\n",
       "   actor_1_facebook_likes        gross                           genres  ...  \\\n",
       "0                  1000.0  760505847.0  Action|Adventure|Fantasy|Sci-Fi  ...   \n",
       "1                 40000.0  309404152.0         Action|Adventure|Fantasy  ...   \n",
       "2                 11000.0  200074175.0        Action|Adventure|Thriller  ...   \n",
       "3                 27000.0  448130642.0                  Action|Thriller  ...   \n",
       "5                   640.0   73058679.0          Action|Adventure|Sci-Fi  ...   \n",
       "\n",
       "  num_user_for_reviews language  country  content_rating       budget  \\\n",
       "0               3054.0  English      USA           PG-13  237000000.0   \n",
       "1               1238.0  English      USA           PG-13  300000000.0   \n",
       "2                994.0  English       UK           PG-13  245000000.0   \n",
       "3               2701.0  English      USA           PG-13  250000000.0   \n",
       "5                738.0  English      USA           PG-13  263700000.0   \n",
       "\n",
       "   title_year actor_2_facebook_likes imdb_score  aspect_ratio  \\\n",
       "0      2009.0                  936.0        7.9          1.78   \n",
       "1      2007.0                 5000.0        7.1          2.35   \n",
       "2      2015.0                  393.0        6.8          2.35   \n",
       "3      2012.0                23000.0        8.5          2.35   \n",
       "5      2012.0                  632.0        6.6          2.35   \n",
       "\n",
       "  movie_facebook_likes  \n",
       "0                33000  \n",
       "1                    0  \n",
       "2                85000  \n",
       "3               164000  \n",
       "5                24000  \n",
       "\n",
       "[5 rows x 28 columns]"
      ]
     },
     "execution_count": 2,
     "metadata": {},
     "output_type": "execute_result"
    }
   ],
   "source": [
    "# test om het bestand te lezen\n",
    "df_1_not_cleaned = pd.read_csv('moviedataset.csv')\n",
    "# head eerste 5 regels van het bestand\n",
    "df_1_cleaned = df_1_not_cleaned.dropna(axis=0, how='any')\n",
    "df_1_cleaned.head()"
   ]
  },
  {
   "cell_type": "code",
   "execution_count": 3,
   "metadata": {
    "scrolled": true
   },
   "outputs": [
    {
     "data": {
      "text/html": [
       "<div>\n",
       "<style scoped>\n",
       "    .dataframe tbody tr th:only-of-type {\n",
       "        vertical-align: middle;\n",
       "    }\n",
       "\n",
       "    .dataframe tbody tr th {\n",
       "        vertical-align: top;\n",
       "    }\n",
       "\n",
       "    .dataframe thead th {\n",
       "        text-align: right;\n",
       "    }\n",
       "</style>\n",
       "<table border=\"1\" class=\"dataframe\">\n",
       "  <thead>\n",
       "    <tr style=\"text-align: right;\">\n",
       "      <th></th>\n",
       "      <th>movie_title</th>\n",
       "      <th>imdb_score</th>\n",
       "      <th>gross</th>\n",
       "      <th>title_year</th>\n",
       "      <th>duration</th>\n",
       "      <th>genres</th>\n",
       "      <th>director_name</th>\n",
       "      <th>actor_1_name</th>\n",
       "      <th>actor_2_name</th>\n",
       "      <th>actor_3_name</th>\n",
       "      <th>movie_facebook_likes</th>\n",
       "      <th>director_facebook_likes</th>\n",
       "      <th>cast_total_facebook_likes</th>\n",
       "      <th>content_rating</th>\n",
       "      <th>num_user_for_reviews</th>\n",
       "      <th>language</th>\n",
       "      <th>budget</th>\n",
       "    </tr>\n",
       "  </thead>\n",
       "  <tbody>\n",
       "    <tr>\n",
       "      <th>0</th>\n",
       "      <td>Avatar</td>\n",
       "      <td>7.9</td>\n",
       "      <td>760505847.0</td>\n",
       "      <td>2009.0</td>\n",
       "      <td>178.0</td>\n",
       "      <td>Action|Adventure|Fantasy|Sci-Fi</td>\n",
       "      <td>James Cameron</td>\n",
       "      <td>CCH Pounder</td>\n",
       "      <td>Joel David Moore</td>\n",
       "      <td>Wes Studi</td>\n",
       "      <td>33000</td>\n",
       "      <td>0.0</td>\n",
       "      <td>4834</td>\n",
       "      <td>PG-13</td>\n",
       "      <td>3054.0</td>\n",
       "      <td>English</td>\n",
       "      <td>237000000.0</td>\n",
       "    </tr>\n",
       "    <tr>\n",
       "      <th>1</th>\n",
       "      <td>Pirates of the Caribbean: At World's End</td>\n",
       "      <td>7.1</td>\n",
       "      <td>309404152.0</td>\n",
       "      <td>2007.0</td>\n",
       "      <td>169.0</td>\n",
       "      <td>Action|Adventure|Fantasy</td>\n",
       "      <td>Gore Verbinski</td>\n",
       "      <td>Johnny Depp</td>\n",
       "      <td>Orlando Bloom</td>\n",
       "      <td>Jack Davenport</td>\n",
       "      <td>0</td>\n",
       "      <td>563.0</td>\n",
       "      <td>48350</td>\n",
       "      <td>PG-13</td>\n",
       "      <td>1238.0</td>\n",
       "      <td>English</td>\n",
       "      <td>300000000.0</td>\n",
       "    </tr>\n",
       "    <tr>\n",
       "      <th>2</th>\n",
       "      <td>Spectre</td>\n",
       "      <td>6.8</td>\n",
       "      <td>200074175.0</td>\n",
       "      <td>2015.0</td>\n",
       "      <td>148.0</td>\n",
       "      <td>Action|Adventure|Thriller</td>\n",
       "      <td>Sam Mendes</td>\n",
       "      <td>Christoph Waltz</td>\n",
       "      <td>Rory Kinnear</td>\n",
       "      <td>Stephanie Sigman</td>\n",
       "      <td>85000</td>\n",
       "      <td>0.0</td>\n",
       "      <td>11700</td>\n",
       "      <td>PG-13</td>\n",
       "      <td>994.0</td>\n",
       "      <td>English</td>\n",
       "      <td>245000000.0</td>\n",
       "    </tr>\n",
       "    <tr>\n",
       "      <th>3</th>\n",
       "      <td>The Dark Knight Rises</td>\n",
       "      <td>8.5</td>\n",
       "      <td>448130642.0</td>\n",
       "      <td>2012.0</td>\n",
       "      <td>164.0</td>\n",
       "      <td>Action|Thriller</td>\n",
       "      <td>Christopher Nolan</td>\n",
       "      <td>Tom Hardy</td>\n",
       "      <td>Christian Bale</td>\n",
       "      <td>Joseph Gordon-Levitt</td>\n",
       "      <td>164000</td>\n",
       "      <td>22000.0</td>\n",
       "      <td>106759</td>\n",
       "      <td>PG-13</td>\n",
       "      <td>2701.0</td>\n",
       "      <td>English</td>\n",
       "      <td>250000000.0</td>\n",
       "    </tr>\n",
       "    <tr>\n",
       "      <th>5</th>\n",
       "      <td>John Carter</td>\n",
       "      <td>6.6</td>\n",
       "      <td>73058679.0</td>\n",
       "      <td>2012.0</td>\n",
       "      <td>132.0</td>\n",
       "      <td>Action|Adventure|Sci-Fi</td>\n",
       "      <td>Andrew Stanton</td>\n",
       "      <td>Daryl Sabara</td>\n",
       "      <td>Samantha Morton</td>\n",
       "      <td>Polly Walker</td>\n",
       "      <td>24000</td>\n",
       "      <td>475.0</td>\n",
       "      <td>1873</td>\n",
       "      <td>PG-13</td>\n",
       "      <td>738.0</td>\n",
       "      <td>English</td>\n",
       "      <td>263700000.0</td>\n",
       "    </tr>\n",
       "  </tbody>\n",
       "</table>\n",
       "</div>"
      ],
      "text/plain": [
       "                                 movie_title  imdb_score        gross  \\\n",
       "0                                    Avatar          7.9  760505847.0   \n",
       "1  Pirates of the Caribbean: At World's End          7.1  309404152.0   \n",
       "2                                   Spectre          6.8  200074175.0   \n",
       "3                     The Dark Knight Rises          8.5  448130642.0   \n",
       "5                               John Carter          6.6   73058679.0   \n",
       "\n",
       "   title_year  duration                           genres      director_name  \\\n",
       "0      2009.0     178.0  Action|Adventure|Fantasy|Sci-Fi      James Cameron   \n",
       "1      2007.0     169.0         Action|Adventure|Fantasy     Gore Verbinski   \n",
       "2      2015.0     148.0        Action|Adventure|Thriller         Sam Mendes   \n",
       "3      2012.0     164.0                  Action|Thriller  Christopher Nolan   \n",
       "5      2012.0     132.0          Action|Adventure|Sci-Fi     Andrew Stanton   \n",
       "\n",
       "      actor_1_name      actor_2_name          actor_3_name  \\\n",
       "0      CCH Pounder  Joel David Moore             Wes Studi   \n",
       "1      Johnny Depp     Orlando Bloom        Jack Davenport   \n",
       "2  Christoph Waltz      Rory Kinnear      Stephanie Sigman   \n",
       "3        Tom Hardy    Christian Bale  Joseph Gordon-Levitt   \n",
       "5     Daryl Sabara   Samantha Morton          Polly Walker   \n",
       "\n",
       "   movie_facebook_likes  director_facebook_likes  cast_total_facebook_likes  \\\n",
       "0                 33000                      0.0                       4834   \n",
       "1                     0                    563.0                      48350   \n",
       "2                 85000                      0.0                      11700   \n",
       "3                164000                  22000.0                     106759   \n",
       "5                 24000                    475.0                       1873   \n",
       "\n",
       "  content_rating  num_user_for_reviews language       budget  \n",
       "0          PG-13                3054.0  English  237000000.0  \n",
       "1          PG-13                1238.0  English  300000000.0  \n",
       "2          PG-13                 994.0  English  245000000.0  \n",
       "3          PG-13                2701.0  English  250000000.0  \n",
       "5          PG-13                 738.0  English  263700000.0  "
      ]
     },
     "execution_count": 3,
     "metadata": {},
     "output_type": "execute_result"
    }
   ],
   "source": [
    "# data cleaning dataset 1\n",
    "data_1 = df_1_cleaned.drop([\"color\", \"plot_keywords\", \"aspect_ratio\", \"movie_imdb_link\", \"actor_2_facebook_likes\", \"actor_1_facebook_likes\", \"actor_3_facebook_likes\", \"country\"], axis=1)\n",
    "dataset_1 = data_1.reindex(columns= ['movie_title', 'imdb_score','gross', 'title_year', 'duration','genres', 'director_name', 'actor_1_name', 'actor_2_name', 'actor_3_name', 'movie_facebook_likes', 'director_facebook_likes', 'cast_total_facebook_likes', 'content_rating', 'num_user_for_reviews', 'language', 'budget'])\n",
    "# De Blank spaces van de data veravangen met none\n",
    "dataset_1.head()"
   ]
  },
  {
   "cell_type": "code",
   "execution_count": 4,
   "metadata": {
    "scrolled": false
   },
   "outputs": [
    {
     "data": {
      "text/html": [
       "<div>\n",
       "<style scoped>\n",
       "    .dataframe tbody tr th:only-of-type {\n",
       "        vertical-align: middle;\n",
       "    }\n",
       "\n",
       "    .dataframe tbody tr th {\n",
       "        vertical-align: top;\n",
       "    }\n",
       "\n",
       "    .dataframe thead th {\n",
       "        text-align: right;\n",
       "    }\n",
       "</style>\n",
       "<table border=\"1\" class=\"dataframe\">\n",
       "  <thead>\n",
       "    <tr style=\"text-align: right;\">\n",
       "      <th></th>\n",
       "      <th>imdb_score</th>\n",
       "      <th>gross</th>\n",
       "      <th>title_year</th>\n",
       "      <th>duration</th>\n",
       "      <th>movie_facebook_likes</th>\n",
       "      <th>director_facebook_likes</th>\n",
       "      <th>cast_total_facebook_likes</th>\n",
       "      <th>num_user_for_reviews</th>\n",
       "      <th>budget</th>\n",
       "    </tr>\n",
       "  </thead>\n",
       "  <tbody>\n",
       "    <tr>\n",
       "      <th>count</th>\n",
       "      <td>3756.000000</td>\n",
       "      <td>3.756000e+03</td>\n",
       "      <td>3756.000000</td>\n",
       "      <td>3756.000000</td>\n",
       "      <td>3756.000000</td>\n",
       "      <td>3756.000000</td>\n",
       "      <td>3756.000000</td>\n",
       "      <td>3756.000000</td>\n",
       "      <td>3.756000e+03</td>\n",
       "    </tr>\n",
       "    <tr>\n",
       "      <th>mean</th>\n",
       "      <td>6.465282</td>\n",
       "      <td>5.261282e+07</td>\n",
       "      <td>2002.976571</td>\n",
       "      <td>110.257987</td>\n",
       "      <td>9353.829340</td>\n",
       "      <td>807.336528</td>\n",
       "      <td>11527.101970</td>\n",
       "      <td>336.843184</td>\n",
       "      <td>4.623685e+07</td>\n",
       "    </tr>\n",
       "    <tr>\n",
       "      <th>std</th>\n",
       "      <td>1.056247</td>\n",
       "      <td>7.031787e+07</td>\n",
       "      <td>9.888108</td>\n",
       "      <td>22.646717</td>\n",
       "      <td>21462.889123</td>\n",
       "      <td>3068.171683</td>\n",
       "      <td>19122.176905</td>\n",
       "      <td>411.227368</td>\n",
       "      <td>2.260103e+08</td>\n",
       "    </tr>\n",
       "    <tr>\n",
       "      <th>min</th>\n",
       "      <td>1.600000</td>\n",
       "      <td>1.620000e+02</td>\n",
       "      <td>1927.000000</td>\n",
       "      <td>37.000000</td>\n",
       "      <td>0.000000</td>\n",
       "      <td>0.000000</td>\n",
       "      <td>0.000000</td>\n",
       "      <td>4.000000</td>\n",
       "      <td>2.180000e+02</td>\n",
       "    </tr>\n",
       "    <tr>\n",
       "      <th>25%</th>\n",
       "      <td>5.900000</td>\n",
       "      <td>8.270233e+06</td>\n",
       "      <td>1999.000000</td>\n",
       "      <td>96.000000</td>\n",
       "      <td>0.000000</td>\n",
       "      <td>11.000000</td>\n",
       "      <td>1919.750000</td>\n",
       "      <td>110.000000</td>\n",
       "      <td>1.000000e+07</td>\n",
       "    </tr>\n",
       "    <tr>\n",
       "      <th>50%</th>\n",
       "      <td>6.600000</td>\n",
       "      <td>3.009311e+07</td>\n",
       "      <td>2004.000000</td>\n",
       "      <td>106.000000</td>\n",
       "      <td>227.000000</td>\n",
       "      <td>64.000000</td>\n",
       "      <td>4059.500000</td>\n",
       "      <td>210.000000</td>\n",
       "      <td>2.500000e+07</td>\n",
       "    </tr>\n",
       "    <tr>\n",
       "      <th>75%</th>\n",
       "      <td>7.200000</td>\n",
       "      <td>6.688194e+07</td>\n",
       "      <td>2010.000000</td>\n",
       "      <td>120.000000</td>\n",
       "      <td>11000.000000</td>\n",
       "      <td>235.000000</td>\n",
       "      <td>16240.000000</td>\n",
       "      <td>398.250000</td>\n",
       "      <td>5.000000e+07</td>\n",
       "    </tr>\n",
       "    <tr>\n",
       "      <th>max</th>\n",
       "      <td>9.300000</td>\n",
       "      <td>7.605058e+08</td>\n",
       "      <td>2016.000000</td>\n",
       "      <td>330.000000</td>\n",
       "      <td>349000.000000</td>\n",
       "      <td>23000.000000</td>\n",
       "      <td>656730.000000</td>\n",
       "      <td>5060.000000</td>\n",
       "      <td>1.221550e+10</td>\n",
       "    </tr>\n",
       "  </tbody>\n",
       "</table>\n",
       "</div>"
      ],
      "text/plain": [
       "        imdb_score         gross   title_year     duration  \\\n",
       "count  3756.000000  3.756000e+03  3756.000000  3756.000000   \n",
       "mean      6.465282  5.261282e+07  2002.976571   110.257987   \n",
       "std       1.056247  7.031787e+07     9.888108    22.646717   \n",
       "min       1.600000  1.620000e+02  1927.000000    37.000000   \n",
       "25%       5.900000  8.270233e+06  1999.000000    96.000000   \n",
       "50%       6.600000  3.009311e+07  2004.000000   106.000000   \n",
       "75%       7.200000  6.688194e+07  2010.000000   120.000000   \n",
       "max       9.300000  7.605058e+08  2016.000000   330.000000   \n",
       "\n",
       "       movie_facebook_likes  director_facebook_likes  \\\n",
       "count           3756.000000              3756.000000   \n",
       "mean            9353.829340               807.336528   \n",
       "std            21462.889123              3068.171683   \n",
       "min                0.000000                 0.000000   \n",
       "25%                0.000000                11.000000   \n",
       "50%              227.000000                64.000000   \n",
       "75%            11000.000000               235.000000   \n",
       "max           349000.000000             23000.000000   \n",
       "\n",
       "       cast_total_facebook_likes  num_user_for_reviews        budget  \n",
       "count                3756.000000           3756.000000  3.756000e+03  \n",
       "mean                11527.101970            336.843184  4.623685e+07  \n",
       "std                 19122.176905            411.227368  2.260103e+08  \n",
       "min                     0.000000              4.000000  2.180000e+02  \n",
       "25%                  1919.750000            110.000000  1.000000e+07  \n",
       "50%                  4059.500000            210.000000  2.500000e+07  \n",
       "75%                 16240.000000            398.250000  5.000000e+07  \n",
       "max                656730.000000           5060.000000  1.221550e+10  "
      ]
     },
     "execution_count": 4,
     "metadata": {},
     "output_type": "execute_result"
    }
   ],
   "source": [
    "# tabel die statistische weergaven geeft van de numerieke data van dataset 1\n",
    "dataset_1.describe()"
   ]
  },
  {
   "cell_type": "code",
   "execution_count": 5,
   "metadata": {},
   "outputs": [
    {
     "data": {
      "text/html": [
       "<div>\n",
       "<style scoped>\n",
       "    .dataframe tbody tr th:only-of-type {\n",
       "        vertical-align: middle;\n",
       "    }\n",
       "\n",
       "    .dataframe tbody tr th {\n",
       "        vertical-align: top;\n",
       "    }\n",
       "\n",
       "    .dataframe thead th {\n",
       "        text-align: right;\n",
       "    }\n",
       "</style>\n",
       "<table border=\"1\" class=\"dataframe\">\n",
       "  <thead>\n",
       "    <tr style=\"text-align: right;\">\n",
       "      <th></th>\n",
       "      <th>Position</th>\n",
       "      <th>Const</th>\n",
       "      <th>Created</th>\n",
       "      <th>Modified</th>\n",
       "      <th>Description</th>\n",
       "      <th>Title</th>\n",
       "      <th>URL</th>\n",
       "      <th>Title Type</th>\n",
       "      <th>IMDb Rating</th>\n",
       "      <th>Runtime (mins)</th>\n",
       "      <th>Year</th>\n",
       "      <th>Genres</th>\n",
       "      <th>Num Votes</th>\n",
       "      <th>Release Date</th>\n",
       "      <th>Directors</th>\n",
       "    </tr>\n",
       "  </thead>\n",
       "  <tbody>\n",
       "    <tr>\n",
       "      <th>0</th>\n",
       "      <td>1</td>\n",
       "      <td>tt0145487</td>\n",
       "      <td>03-11-2011</td>\n",
       "      <td>03-11-2011</td>\n",
       "      <td>NaN</td>\n",
       "      <td>Spider-Man</td>\n",
       "      <td>https://www.imdb.com/title/tt0145487/</td>\n",
       "      <td>movie</td>\n",
       "      <td>7.3</td>\n",
       "      <td>121.0</td>\n",
       "      <td>2002.0</td>\n",
       "      <td>Action, Adventure, Sci-Fi</td>\n",
       "      <td>670777.0</td>\n",
       "      <td>30-04-2002</td>\n",
       "      <td>Sam Raimi</td>\n",
       "    </tr>\n",
       "    <tr>\n",
       "      <th>1</th>\n",
       "      <td>2</td>\n",
       "      <td>tt0316654</td>\n",
       "      <td>03-11-2011</td>\n",
       "      <td>03-11-2011</td>\n",
       "      <td>NaN</td>\n",
       "      <td>Spider-Man 2</td>\n",
       "      <td>https://www.imdb.com/title/tt0316654/</td>\n",
       "      <td>movie</td>\n",
       "      <td>7.3</td>\n",
       "      <td>127.0</td>\n",
       "      <td>2004.0</td>\n",
       "      <td>Action, Adventure, Sci-Fi</td>\n",
       "      <td>528482.0</td>\n",
       "      <td>25-06-2004</td>\n",
       "      <td>Sam Raimi</td>\n",
       "    </tr>\n",
       "    <tr>\n",
       "      <th>2</th>\n",
       "      <td>3</td>\n",
       "      <td>tt0413300</td>\n",
       "      <td>03-11-2011</td>\n",
       "      <td>03-11-2011</td>\n",
       "      <td>NaN</td>\n",
       "      <td>Spider-Man 3</td>\n",
       "      <td>https://www.imdb.com/title/tt0413300/</td>\n",
       "      <td>movie</td>\n",
       "      <td>6.2</td>\n",
       "      <td>139.0</td>\n",
       "      <td>2007.0</td>\n",
       "      <td>Action, Adventure, Sci-Fi</td>\n",
       "      <td>485814.0</td>\n",
       "      <td>03-04-2007</td>\n",
       "      <td>Sam Raimi</td>\n",
       "    </tr>\n",
       "    <tr>\n",
       "      <th>3</th>\n",
       "      <td>4</td>\n",
       "      <td>tt0133093</td>\n",
       "      <td>03-11-2011</td>\n",
       "      <td>03-11-2011</td>\n",
       "      <td>NaN</td>\n",
       "      <td>The Matrix</td>\n",
       "      <td>https://www.imdb.com/title/tt0133093/</td>\n",
       "      <td>movie</td>\n",
       "      <td>8.7</td>\n",
       "      <td>136.0</td>\n",
       "      <td>1999.0</td>\n",
       "      <td>Action, Sci-Fi</td>\n",
       "      <td>1615984.0</td>\n",
       "      <td>24-03-1999</td>\n",
       "      <td>Lilly Wachowski, Lana Wachowski</td>\n",
       "    </tr>\n",
       "    <tr>\n",
       "      <th>4</th>\n",
       "      <td>5</td>\n",
       "      <td>tt0234215</td>\n",
       "      <td>03-11-2011</td>\n",
       "      <td>03-11-2011</td>\n",
       "      <td>NaN</td>\n",
       "      <td>The Matrix Reloaded</td>\n",
       "      <td>https://www.imdb.com/title/tt0234215/</td>\n",
       "      <td>movie</td>\n",
       "      <td>7.2</td>\n",
       "      <td>138.0</td>\n",
       "      <td>2003.0</td>\n",
       "      <td>Action, Sci-Fi</td>\n",
       "      <td>502256.0</td>\n",
       "      <td>07-05-2003</td>\n",
       "      <td>Lilly Wachowski, Lana Wachowski</td>\n",
       "    </tr>\n",
       "  </tbody>\n",
       "</table>\n",
       "</div>"
      ],
      "text/plain": [
       "   Position      Const     Created    Modified  Description  \\\n",
       "0         1  tt0145487  03-11-2011  03-11-2011          NaN   \n",
       "1         2  tt0316654  03-11-2011  03-11-2011          NaN   \n",
       "2         3  tt0413300  03-11-2011  03-11-2011          NaN   \n",
       "3         4  tt0133093  03-11-2011  03-11-2011          NaN   \n",
       "4         5  tt0234215  03-11-2011  03-11-2011          NaN   \n",
       "\n",
       "                 Title                                    URL Title Type  \\\n",
       "0           Spider-Man  https://www.imdb.com/title/tt0145487/      movie   \n",
       "1         Spider-Man 2  https://www.imdb.com/title/tt0316654/      movie   \n",
       "2         Spider-Man 3  https://www.imdb.com/title/tt0413300/      movie   \n",
       "3           The Matrix  https://www.imdb.com/title/tt0133093/      movie   \n",
       "4  The Matrix Reloaded  https://www.imdb.com/title/tt0234215/      movie   \n",
       "\n",
       "   IMDb Rating  Runtime (mins)    Year                     Genres  Num Votes  \\\n",
       "0          7.3           121.0  2002.0  Action, Adventure, Sci-Fi   670777.0   \n",
       "1          7.3           127.0  2004.0  Action, Adventure, Sci-Fi   528482.0   \n",
       "2          6.2           139.0  2007.0  Action, Adventure, Sci-Fi   485814.0   \n",
       "3          8.7           136.0  1999.0             Action, Sci-Fi  1615984.0   \n",
       "4          7.2           138.0  2003.0             Action, Sci-Fi   502256.0   \n",
       "\n",
       "  Release Date                        Directors  \n",
       "0   30-04-2002                        Sam Raimi  \n",
       "1   25-06-2004                        Sam Raimi  \n",
       "2   03-04-2007                        Sam Raimi  \n",
       "3   24-03-1999  Lilly Wachowski, Lana Wachowski  \n",
       "4   07-05-2003  Lilly Wachowski, Lana Wachowski  "
      ]
     },
     "execution_count": 5,
     "metadata": {},
     "output_type": "execute_result"
    }
   ],
   "source": [
    "# test om het bestand te lezen\n",
    "df_2 = pd.read_csv(\"MoviesWithSequels.csv\", encoding= 'unicode_escape') \n",
    "# head eerste 5 regels van het bestand\n",
    "df_2.head()"
   ]
  },
  {
   "cell_type": "code",
   "execution_count": 6,
   "metadata": {},
   "outputs": [
    {
     "data": {
      "text/html": [
       "<div>\n",
       "<style scoped>\n",
       "    .dataframe tbody tr th:only-of-type {\n",
       "        vertical-align: middle;\n",
       "    }\n",
       "\n",
       "    .dataframe tbody tr th {\n",
       "        vertical-align: top;\n",
       "    }\n",
       "\n",
       "    .dataframe thead th {\n",
       "        text-align: right;\n",
       "    }\n",
       "</style>\n",
       "<table border=\"1\" class=\"dataframe\">\n",
       "  <thead>\n",
       "    <tr style=\"text-align: right;\">\n",
       "      <th></th>\n",
       "      <th>Title</th>\n",
       "      <th>Year</th>\n",
       "      <th>IMDb Rating</th>\n",
       "      <th>Movie Series</th>\n",
       "      <th>Order</th>\n",
       "    </tr>\n",
       "  </thead>\n",
       "  <tbody>\n",
       "  </tbody>\n",
       "</table>\n",
       "</div>"
      ],
      "text/plain": [
       "Empty DataFrame\n",
       "Columns: [Title, Year, IMDb Rating, Movie Series, Order]\n",
       "Index: []"
      ]
     },
     "execution_count": 6,
     "metadata": {},
     "output_type": "execute_result"
    }
   ],
   "source": [
    "# data cleaning dataset 2\n",
    "data_2 = df_2.drop(['URL', 'Runtime (mins)', 'Genres', 'Directors', 'Num Votes', 'Release Date', 'Description'], axis=1)\n",
    "data_2_not_cleaned = data_2.reindex(columns= ['Title', 'Year', 'IMDb Rating', 'Movie Series', 'Order'])\n",
    "data_2_cleaned = data_2_not_cleaned.dropna(axis=0, how='any')\n",
    "data_2_cleaned.head()"
   ]
  },
  {
   "cell_type": "code",
   "execution_count": 7,
   "metadata": {},
   "outputs": [
    {
     "data": {
      "text/html": [
       "<div>\n",
       "<style scoped>\n",
       "    .dataframe tbody tr th:only-of-type {\n",
       "        vertical-align: middle;\n",
       "    }\n",
       "\n",
       "    .dataframe tbody tr th {\n",
       "        vertical-align: top;\n",
       "    }\n",
       "\n",
       "    .dataframe thead th {\n",
       "        text-align: right;\n",
       "    }\n",
       "</style>\n",
       "<table border=\"1\" class=\"dataframe\">\n",
       "  <thead>\n",
       "    <tr style=\"text-align: right;\">\n",
       "      <th></th>\n",
       "      <th>Year</th>\n",
       "      <th>IMDb Rating</th>\n",
       "      <th>Movie Series</th>\n",
       "      <th>Order</th>\n",
       "    </tr>\n",
       "  </thead>\n",
       "  <tbody>\n",
       "    <tr>\n",
       "      <th>count</th>\n",
       "      <td>0.0</td>\n",
       "      <td>0.0</td>\n",
       "      <td>0.0</td>\n",
       "      <td>0.0</td>\n",
       "    </tr>\n",
       "    <tr>\n",
       "      <th>mean</th>\n",
       "      <td>NaN</td>\n",
       "      <td>NaN</td>\n",
       "      <td>NaN</td>\n",
       "      <td>NaN</td>\n",
       "    </tr>\n",
       "    <tr>\n",
       "      <th>std</th>\n",
       "      <td>NaN</td>\n",
       "      <td>NaN</td>\n",
       "      <td>NaN</td>\n",
       "      <td>NaN</td>\n",
       "    </tr>\n",
       "    <tr>\n",
       "      <th>min</th>\n",
       "      <td>NaN</td>\n",
       "      <td>NaN</td>\n",
       "      <td>NaN</td>\n",
       "      <td>NaN</td>\n",
       "    </tr>\n",
       "    <tr>\n",
       "      <th>25%</th>\n",
       "      <td>NaN</td>\n",
       "      <td>NaN</td>\n",
       "      <td>NaN</td>\n",
       "      <td>NaN</td>\n",
       "    </tr>\n",
       "    <tr>\n",
       "      <th>50%</th>\n",
       "      <td>NaN</td>\n",
       "      <td>NaN</td>\n",
       "      <td>NaN</td>\n",
       "      <td>NaN</td>\n",
       "    </tr>\n",
       "    <tr>\n",
       "      <th>75%</th>\n",
       "      <td>NaN</td>\n",
       "      <td>NaN</td>\n",
       "      <td>NaN</td>\n",
       "      <td>NaN</td>\n",
       "    </tr>\n",
       "    <tr>\n",
       "      <th>max</th>\n",
       "      <td>NaN</td>\n",
       "      <td>NaN</td>\n",
       "      <td>NaN</td>\n",
       "      <td>NaN</td>\n",
       "    </tr>\n",
       "  </tbody>\n",
       "</table>\n",
       "</div>"
      ],
      "text/plain": [
       "       Year  IMDb Rating  Movie Series  Order\n",
       "count   0.0          0.0           0.0    0.0\n",
       "mean    NaN          NaN           NaN    NaN\n",
       "std     NaN          NaN           NaN    NaN\n",
       "min     NaN          NaN           NaN    NaN\n",
       "25%     NaN          NaN           NaN    NaN\n",
       "50%     NaN          NaN           NaN    NaN\n",
       "75%     NaN          NaN           NaN    NaN\n",
       "max     NaN          NaN           NaN    NaN"
      ]
     },
     "execution_count": 7,
     "metadata": {},
     "output_type": "execute_result"
    }
   ],
   "source": [
    "# tabel die statistische weergaven geeft van de numerieke data van dataset 2\n",
    "data_2_cleaned.describe()"
   ]
  },
  {
   "cell_type": "code",
   "execution_count": 8,
   "metadata": {},
   "outputs": [],
   "source": [
    "# Find out what main genre is, then selects all movies with that main genre.\n",
    "genres = dataset_1['genres'].values.tolist()\n",
    "maingenres = []\n",
    "for x in genres:\n",
    "    if '|' in x:\n",
    "        x = x.split('|')\n",
    "        x = x[0]\n",
    "    maingenres.append(x)\n",
    "\n",
    "\n",
    "dataset_1['main_genre'] = maingenres"
   ]
  },
  {
   "cell_type": "code",
   "execution_count": 9,
   "metadata": {},
   "outputs": [
    {
     "data": {
      "text/html": [
       "<div>\n",
       "<style scoped>\n",
       "    .dataframe tbody tr th:only-of-type {\n",
       "        vertical-align: middle;\n",
       "    }\n",
       "\n",
       "    .dataframe tbody tr th {\n",
       "        vertical-align: top;\n",
       "    }\n",
       "\n",
       "    .dataframe thead th {\n",
       "        text-align: right;\n",
       "    }\n",
       "</style>\n",
       "<table border=\"1\" class=\"dataframe\">\n",
       "  <thead>\n",
       "    <tr style=\"text-align: right;\">\n",
       "      <th></th>\n",
       "      <th>imdb_score</th>\n",
       "      <th>gross</th>\n",
       "      <th>movie_facebook_likes</th>\n",
       "      <th>director_facebook_likes</th>\n",
       "      <th>cast_total_facebook_likes</th>\n",
       "      <th>num_user_for_reviews</th>\n",
       "    </tr>\n",
       "  </thead>\n",
       "  <tbody>\n",
       "    <tr>\n",
       "      <th>0</th>\n",
       "      <td>7.9</td>\n",
       "      <td>760505847.0</td>\n",
       "      <td>33000</td>\n",
       "      <td>0.0</td>\n",
       "      <td>4834</td>\n",
       "      <td>3054.0</td>\n",
       "    </tr>\n",
       "    <tr>\n",
       "      <th>1</th>\n",
       "      <td>7.1</td>\n",
       "      <td>309404152.0</td>\n",
       "      <td>0</td>\n",
       "      <td>563.0</td>\n",
       "      <td>48350</td>\n",
       "      <td>1238.0</td>\n",
       "    </tr>\n",
       "    <tr>\n",
       "      <th>2</th>\n",
       "      <td>6.8</td>\n",
       "      <td>200074175.0</td>\n",
       "      <td>85000</td>\n",
       "      <td>0.0</td>\n",
       "      <td>11700</td>\n",
       "      <td>994.0</td>\n",
       "    </tr>\n",
       "    <tr>\n",
       "      <th>3</th>\n",
       "      <td>8.5</td>\n",
       "      <td>448130642.0</td>\n",
       "      <td>164000</td>\n",
       "      <td>22000.0</td>\n",
       "      <td>106759</td>\n",
       "      <td>2701.0</td>\n",
       "    </tr>\n",
       "    <tr>\n",
       "      <th>5</th>\n",
       "      <td>6.6</td>\n",
       "      <td>73058679.0</td>\n",
       "      <td>24000</td>\n",
       "      <td>475.0</td>\n",
       "      <td>1873</td>\n",
       "      <td>738.0</td>\n",
       "    </tr>\n",
       "  </tbody>\n",
       "</table>\n",
       "</div>"
      ],
      "text/plain": [
       "   imdb_score        gross  movie_facebook_likes  director_facebook_likes  \\\n",
       "0         7.9  760505847.0                 33000                      0.0   \n",
       "1         7.1  309404152.0                     0                    563.0   \n",
       "2         6.8  200074175.0                 85000                      0.0   \n",
       "3         8.5  448130642.0                164000                  22000.0   \n",
       "5         6.6   73058679.0                 24000                    475.0   \n",
       "\n",
       "   cast_total_facebook_likes  num_user_for_reviews  \n",
       "0                       4834                3054.0  \n",
       "1                      48350                1238.0  \n",
       "2                      11700                 994.0  \n",
       "3                     106759                2701.0  \n",
       "5                       1873                 738.0  "
      ]
     },
     "execution_count": 9,
     "metadata": {},
     "output_type": "execute_result"
    }
   ],
   "source": [
    "# data set voor onderzoekvraag 1\n",
    "data_onderzoekvraag_1 = dataset_1.drop(['movie_title', 'title_year', 'duration', 'genres','main_genre', 'director_name', 'actor_1_name', 'actor_2_name', 'actor_3_name', 'content_rating', 'language', 'budget'], axis=1)\n",
    "data_onderzoekvraag_1.head()"
   ]
  },
  {
   "cell_type": "code",
   "execution_count": 10,
   "metadata": {},
   "outputs": [
    {
     "data": {
      "text/html": [
       "<div>\n",
       "<style scoped>\n",
       "    .dataframe tbody tr th:only-of-type {\n",
       "        vertical-align: middle;\n",
       "    }\n",
       "\n",
       "    .dataframe tbody tr th {\n",
       "        vertical-align: top;\n",
       "    }\n",
       "\n",
       "    .dataframe thead th {\n",
       "        text-align: right;\n",
       "    }\n",
       "</style>\n",
       "<table border=\"1\" class=\"dataframe\">\n",
       "  <thead>\n",
       "    <tr style=\"text-align: right;\">\n",
       "      <th></th>\n",
       "      <th>movie_title</th>\n",
       "      <th>imdb_score</th>\n",
       "      <th>gross</th>\n",
       "      <th>title_year</th>\n",
       "      <th>duration</th>\n",
       "      <th>genres</th>\n",
       "      <th>content_rating</th>\n",
       "      <th>language</th>\n",
       "      <th>budget</th>\n",
       "      <th>main_genre</th>\n",
       "    </tr>\n",
       "  </thead>\n",
       "  <tbody>\n",
       "    <tr>\n",
       "      <th>0</th>\n",
       "      <td>Avatar</td>\n",
       "      <td>7.9</td>\n",
       "      <td>760505847.0</td>\n",
       "      <td>2009.0</td>\n",
       "      <td>178.0</td>\n",
       "      <td>Action|Adventure|Fantasy|Sci-Fi</td>\n",
       "      <td>PG-13</td>\n",
       "      <td>English</td>\n",
       "      <td>237000000.0</td>\n",
       "      <td>Action</td>\n",
       "    </tr>\n",
       "    <tr>\n",
       "      <th>1</th>\n",
       "      <td>Pirates of the Caribbean: At World's End</td>\n",
       "      <td>7.1</td>\n",
       "      <td>309404152.0</td>\n",
       "      <td>2007.0</td>\n",
       "      <td>169.0</td>\n",
       "      <td>Action|Adventure|Fantasy</td>\n",
       "      <td>PG-13</td>\n",
       "      <td>English</td>\n",
       "      <td>300000000.0</td>\n",
       "      <td>Action</td>\n",
       "    </tr>\n",
       "    <tr>\n",
       "      <th>2</th>\n",
       "      <td>Spectre</td>\n",
       "      <td>6.8</td>\n",
       "      <td>200074175.0</td>\n",
       "      <td>2015.0</td>\n",
       "      <td>148.0</td>\n",
       "      <td>Action|Adventure|Thriller</td>\n",
       "      <td>PG-13</td>\n",
       "      <td>English</td>\n",
       "      <td>245000000.0</td>\n",
       "      <td>Action</td>\n",
       "    </tr>\n",
       "    <tr>\n",
       "      <th>3</th>\n",
       "      <td>The Dark Knight Rises</td>\n",
       "      <td>8.5</td>\n",
       "      <td>448130642.0</td>\n",
       "      <td>2012.0</td>\n",
       "      <td>164.0</td>\n",
       "      <td>Action|Thriller</td>\n",
       "      <td>PG-13</td>\n",
       "      <td>English</td>\n",
       "      <td>250000000.0</td>\n",
       "      <td>Action</td>\n",
       "    </tr>\n",
       "    <tr>\n",
       "      <th>5</th>\n",
       "      <td>John Carter</td>\n",
       "      <td>6.6</td>\n",
       "      <td>73058679.0</td>\n",
       "      <td>2012.0</td>\n",
       "      <td>132.0</td>\n",
       "      <td>Action|Adventure|Sci-Fi</td>\n",
       "      <td>PG-13</td>\n",
       "      <td>English</td>\n",
       "      <td>263700000.0</td>\n",
       "      <td>Action</td>\n",
       "    </tr>\n",
       "  </tbody>\n",
       "</table>\n",
       "</div>"
      ],
      "text/plain": [
       "                                 movie_title  imdb_score        gross  \\\n",
       "0                                    Avatar          7.9  760505847.0   \n",
       "1  Pirates of the Caribbean: At World's End          7.1  309404152.0   \n",
       "2                                   Spectre          6.8  200074175.0   \n",
       "3                     The Dark Knight Rises          8.5  448130642.0   \n",
       "5                               John Carter          6.6   73058679.0   \n",
       "\n",
       "   title_year  duration                           genres content_rating  \\\n",
       "0      2009.0     178.0  Action|Adventure|Fantasy|Sci-Fi          PG-13   \n",
       "1      2007.0     169.0         Action|Adventure|Fantasy          PG-13   \n",
       "2      2015.0     148.0        Action|Adventure|Thriller          PG-13   \n",
       "3      2012.0     164.0                  Action|Thriller          PG-13   \n",
       "5      2012.0     132.0          Action|Adventure|Sci-Fi          PG-13   \n",
       "\n",
       "  language       budget main_genre  \n",
       "0  English  237000000.0     Action  \n",
       "1  English  300000000.0     Action  \n",
       "2  English  245000000.0     Action  \n",
       "3  English  250000000.0     Action  \n",
       "5  English  263700000.0     Action  "
      ]
     },
     "execution_count": 10,
     "metadata": {},
     "output_type": "execute_result"
    }
   ],
   "source": [
    "# data set voor onderzoekvraag 2\n",
    "data_onderzoekvraag_2 = dataset_1.drop(['director_name', 'actor_1_name', 'actor_2_name', 'actor_3_name', 'movie_facebook_likes', 'director_facebook_likes', 'cast_total_facebook_likes', 'num_user_for_reviews'], axis=1)\n",
    "data_onderzoekvraag_2.head()"
   ]
  },
  {
   "cell_type": "code",
   "execution_count": 11,
   "metadata": {},
   "outputs": [
    {
     "data": {
      "text/html": [
       "<div>\n",
       "<style scoped>\n",
       "    .dataframe tbody tr th:only-of-type {\n",
       "        vertical-align: middle;\n",
       "    }\n",
       "\n",
       "    .dataframe tbody tr th {\n",
       "        vertical-align: top;\n",
       "    }\n",
       "\n",
       "    .dataframe thead th {\n",
       "        text-align: right;\n",
       "    }\n",
       "</style>\n",
       "<table border=\"1\" class=\"dataframe\">\n",
       "  <thead>\n",
       "    <tr style=\"text-align: right;\">\n",
       "      <th></th>\n",
       "      <th>imdb_score</th>\n",
       "      <th>gross</th>\n",
       "      <th>title_year</th>\n",
       "      <th>movie_facebook_likes</th>\n",
       "      <th>director_facebook_likes</th>\n",
       "      <th>cast_total_facebook_likes</th>\n",
       "      <th>num_user_for_reviews</th>\n",
       "      <th>budget</th>\n",
       "      <th>main_genre</th>\n",
       "    </tr>\n",
       "  </thead>\n",
       "  <tbody>\n",
       "    <tr>\n",
       "      <th>0</th>\n",
       "      <td>7.9</td>\n",
       "      <td>760505847.0</td>\n",
       "      <td>2009.0</td>\n",
       "      <td>33000</td>\n",
       "      <td>0.0</td>\n",
       "      <td>4834</td>\n",
       "      <td>3054.0</td>\n",
       "      <td>237000000.0</td>\n",
       "      <td>Action</td>\n",
       "    </tr>\n",
       "    <tr>\n",
       "      <th>1</th>\n",
       "      <td>7.1</td>\n",
       "      <td>309404152.0</td>\n",
       "      <td>2007.0</td>\n",
       "      <td>0</td>\n",
       "      <td>563.0</td>\n",
       "      <td>48350</td>\n",
       "      <td>1238.0</td>\n",
       "      <td>300000000.0</td>\n",
       "      <td>Action</td>\n",
       "    </tr>\n",
       "    <tr>\n",
       "      <th>2</th>\n",
       "      <td>6.8</td>\n",
       "      <td>200074175.0</td>\n",
       "      <td>2015.0</td>\n",
       "      <td>85000</td>\n",
       "      <td>0.0</td>\n",
       "      <td>11700</td>\n",
       "      <td>994.0</td>\n",
       "      <td>245000000.0</td>\n",
       "      <td>Action</td>\n",
       "    </tr>\n",
       "    <tr>\n",
       "      <th>3</th>\n",
       "      <td>8.5</td>\n",
       "      <td>448130642.0</td>\n",
       "      <td>2012.0</td>\n",
       "      <td>164000</td>\n",
       "      <td>22000.0</td>\n",
       "      <td>106759</td>\n",
       "      <td>2701.0</td>\n",
       "      <td>250000000.0</td>\n",
       "      <td>Action</td>\n",
       "    </tr>\n",
       "    <tr>\n",
       "      <th>5</th>\n",
       "      <td>6.6</td>\n",
       "      <td>73058679.0</td>\n",
       "      <td>2012.0</td>\n",
       "      <td>24000</td>\n",
       "      <td>475.0</td>\n",
       "      <td>1873</td>\n",
       "      <td>738.0</td>\n",
       "      <td>263700000.0</td>\n",
       "      <td>Action</td>\n",
       "    </tr>\n",
       "  </tbody>\n",
       "</table>\n",
       "</div>"
      ],
      "text/plain": [
       "   imdb_score        gross  title_year  movie_facebook_likes  \\\n",
       "0         7.9  760505847.0      2009.0                 33000   \n",
       "1         7.1  309404152.0      2007.0                     0   \n",
       "2         6.8  200074175.0      2015.0                 85000   \n",
       "3         8.5  448130642.0      2012.0                164000   \n",
       "5         6.6   73058679.0      2012.0                 24000   \n",
       "\n",
       "   director_facebook_likes  cast_total_facebook_likes  num_user_for_reviews  \\\n",
       "0                      0.0                       4834                3054.0   \n",
       "1                    563.0                      48350                1238.0   \n",
       "2                      0.0                      11700                 994.0   \n",
       "3                  22000.0                     106759                2701.0   \n",
       "5                    475.0                       1873                 738.0   \n",
       "\n",
       "        budget main_genre  \n",
       "0  237000000.0     Action  \n",
       "1  300000000.0     Action  \n",
       "2  245000000.0     Action  \n",
       "3  250000000.0     Action  \n",
       "5  263700000.0     Action  "
      ]
     },
     "execution_count": 11,
     "metadata": {},
     "output_type": "execute_result"
    }
   ],
   "source": [
    "# data set voor onderzoekvraag 3\n",
    "data_onderzoekvraag_3_x = dataset_1.drop(['movie_title', 'duration', 'director_name', 'actor_1_name', 'actor_2_name', 'actor_3_name', 'content_rating', 'language', 'genres'], axis=1)\n",
    "data_onderzoekvraag_3 = data_onderzoekvraag_3_x[:5000]\n",
    "data_onderzoekvraag_3.head()"
   ]
  },
  {
   "cell_type": "code",
   "execution_count": 12,
   "metadata": {},
   "outputs": [
    {
     "data": {
      "text/html": [
       "<div>\n",
       "<style scoped>\n",
       "    .dataframe tbody tr th:only-of-type {\n",
       "        vertical-align: middle;\n",
       "    }\n",
       "\n",
       "    .dataframe tbody tr th {\n",
       "        vertical-align: top;\n",
       "    }\n",
       "\n",
       "    .dataframe thead th {\n",
       "        text-align: right;\n",
       "    }\n",
       "</style>\n",
       "<table border=\"1\" class=\"dataframe\">\n",
       "  <thead>\n",
       "    <tr style=\"text-align: right;\">\n",
       "      <th></th>\n",
       "      <th>Title</th>\n",
       "      <th>Year</th>\n",
       "      <th>IMDb Rating</th>\n",
       "      <th>Movie Series</th>\n",
       "      <th>Order</th>\n",
       "    </tr>\n",
       "  </thead>\n",
       "  <tbody>\n",
       "  </tbody>\n",
       "</table>\n",
       "</div>"
      ],
      "text/plain": [
       "Empty DataFrame\n",
       "Columns: [Title, Year, IMDb Rating, Movie Series, Order]\n",
       "Index: []"
      ]
     },
     "execution_count": 12,
     "metadata": {},
     "output_type": "execute_result"
    }
   ],
   "source": [
    "# data set voor onderzoekvraag 4\n",
    "data_onderzoekvraag_4 = data_2_cleaned\n",
    "data_onderzoekvraag_4.head()"
   ]
  },
  {
   "cell_type": "markdown",
   "metadata": {},
   "source": [
    "### 'Standaard' vraag uitwerkingen."
   ]
  },
  {
   "cell_type": "markdown",
   "metadata": {},
   "source": [
    "De stelling: 'Een filmcriticus stelt dat de score van Engelstalige films lager is dan gemiddeld.'\n",
    "\n"
   ]
  },
  {
   "cell_type": "code",
   "execution_count": 13,
   "metadata": {},
   "outputs": [
    {
     "data": {
      "text/html": [
       "<div>\n",
       "<style scoped>\n",
       "    .dataframe tbody tr th:only-of-type {\n",
       "        vertical-align: middle;\n",
       "    }\n",
       "\n",
       "    .dataframe tbody tr th {\n",
       "        vertical-align: top;\n",
       "    }\n",
       "\n",
       "    .dataframe thead th {\n",
       "        text-align: right;\n",
       "    }\n",
       "</style>\n",
       "<table border=\"1\" class=\"dataframe\">\n",
       "  <thead>\n",
       "    <tr style=\"text-align: right;\">\n",
       "      <th></th>\n",
       "      <th>Average IMDB score</th>\n",
       "      <th>Language</th>\n",
       "    </tr>\n",
       "  </thead>\n",
       "  <tbody>\n",
       "    <tr>\n",
       "      <th>0</th>\n",
       "      <td>6.947674</td>\n",
       "      <td>Alle talen</td>\n",
       "    </tr>\n",
       "    <tr>\n",
       "      <th>1</th>\n",
       "      <td>7.336076</td>\n",
       "      <td>Non_English</td>\n",
       "    </tr>\n",
       "    <tr>\n",
       "      <th>2</th>\n",
       "      <td>6.334000</td>\n",
       "      <td>English</td>\n",
       "    </tr>\n",
       "  </tbody>\n",
       "</table>\n",
       "</div>"
      ],
      "text/plain": [
       "   Average IMDB score     Language\n",
       "0            6.947674   Alle talen\n",
       "1            7.336076  Non_English\n",
       "2            6.334000      English"
      ]
     },
     "execution_count": 13,
     "metadata": {},
     "output_type": "execute_result"
    }
   ],
   "source": [
    "Engelse_taal = data_onderzoekvraag_2.loc[(data_onderzoekvraag_2['language'] == \"English\")]\n",
    "Steekproef_Engelstalige = Engelse_taal.sample(n=100, random_state = 1)\n",
    "Steekproef_Engelstalige_scores = Steekproef_Engelstalige['imdb_score']\n",
    "Steekproef_Engelstalige_scores_list = Steekproef_Engelstalige_scores.values.tolist()\n",
    "Engelse_taal_avg_score = np.mean(Steekproef_Engelstalige['imdb_score'])\n",
    "\n",
    "Andere_talen = data_onderzoekvraag_2.loc[(data_onderzoekvraag_2['language'] != \"English\")]\n",
    "Populatie_Andere_Talen = Andere_talen['imdb_score']\n",
    "Populatie_Andere_Talen_list = Populatie_Andere_Talen.values.tolist()\n",
    "Andere_talen_Avg_score = np.mean(Andere_talen['imdb_score'])\n",
    "\n",
    "Alle_talen = Steekproef_Engelstalige_scores_list + Populatie_Andere_Talen_list\n",
    "Alle_talen_avg_score = np.mean(Alle_talen)\n",
    "\n",
    "datasheet_scores = pd.DataFrame([(Alle_talen_avg_score, \"Alle talen\"), (Andere_talen_Avg_score, \"Non_English\"), (Engelse_taal_avg_score, \"English\")], columns =['Average IMDB score', 'Language']) \n",
    "datasheet_scores.head()"
   ]
  },
  {
   "cell_type": "code",
   "execution_count": 14,
   "metadata": {},
   "outputs": [
    {
     "data": {
      "text/plain": [
       "<matplotlib.axes._subplots.AxesSubplot at 0x2271244fc40>"
      ]
     },
     "execution_count": 14,
     "metadata": {},
     "output_type": "execute_result"
    },
    {
     "data": {
      "image/png": "[encoded data removed]",
      "text/plain": [
       "<Figure size 432x288 with 1 Axes>"
      ]
     },
     "metadata": {
      "needs_background": "light"
     },
     "output_type": "display_data"
    }
   ],
   "source": [
    "sns.barplot(x='Language', y='Average IMDB score', data=datasheet_scores)"
   ]
  },
  {
   "cell_type": "code",
   "execution_count": 15,
   "metadata": {},
   "outputs": [
    {
     "name": "stdout",
     "output_type": "stream",
     "text": [
      "De gemiddelde p value van de engelse films is 0.27092240944678764\n",
      "De gemiddelde p value van de niet engelse films is 0.34971420015119714\n"
     ]
    }
   ],
   "source": [
    "z_scores_alle_Talen = stats.zscore(Alle_talen)\n",
    "\n",
    "z_score_engels = (Steekproef_Engelstalige_scores-Alle_talen_avg_score)/ statistics.stdev(Alle_talen)\n",
    "avg_z_score_engels = np.mean(z_score_engels)\n",
    "avg_p_value_engels = scipy.stats.norm.sf(abs(avg_z_score_engels))\n",
    "\n",
    "z_score_andere_talen = (Populatie_Andere_Talen-Alle_talen_avg_score)/ statistics.stdev(Alle_talen)\n",
    "avg_z_score_andere_talen = np.mean(z_score_andere_talen)\n",
    "avg_p_value_andere_talen = scipy.stats.norm.sf(abs(avg_z_score_andere_talen))\n",
    "\n",
    "print(\"De gemiddelde p value van de engelse films is {}\".format(avg_p_value_engels))\n",
    "print(\"De gemiddelde p value van de niet engelse films is {}\".format(avg_p_value_andere_talen))"
   ]
  },
  {
   "cell_type": "markdown",
   "metadata": {},
   "source": [
    "### Onderzoeksvraag 1 conclusie en uitwerkingen.\n",
    "\n",
    "In hoeverre is de omzet van een film te voorspellen op basis van de populariteit op Facebook en IMDB zelf?\n",
    "\n",
    "conclusie: door middel van lineare regressie is de omzet van een film te bepalen."
   ]
  },
  {
   "cell_type": "code",
   "execution_count": 16,
   "metadata": {},
   "outputs": [],
   "source": [
    "''' van de 5000 rije data hadden er 120 Nan in het colom van movie director likes deze hebben wij eruit gehaald\n",
    "omdat het relatief weinig is op 5000 rijen data.'''\n",
    "data_onderzoekvraag_1.dropna(inplace= True)"
   ]
  },
  {
   "cell_type": "code",
   "execution_count": 17,
   "metadata": {},
   "outputs": [
    {
     "data": {
      "text/plain": [
       "imdb_score                   float64\n",
       "gross                        float64\n",
       "movie_facebook_likes         float64\n",
       "director_facebook_likes      float64\n",
       "cast_total_facebook_likes    float64\n",
       "num_user_for_reviews         float64\n",
       "dtype: object"
      ]
     },
     "execution_count": 17,
     "metadata": {},
     "output_type": "execute_result"
    }
   ],
   "source": [
    "# data omzetten naar floats\n",
    "data_onderzoekvraag_1 = data_onderzoekvraag_1.astype(float)\n",
    "data_onderzoekvraag_1.dtypes\n",
    "#data_onderzoekvraag_1.head()"
   ]
  },
  {
   "cell_type": "code",
   "execution_count": 18,
   "metadata": {},
   "outputs": [
    {
     "data": {
      "text/html": [
       "<div>\n",
       "<style scoped>\n",
       "    .dataframe tbody tr th:only-of-type {\n",
       "        vertical-align: middle;\n",
       "    }\n",
       "\n",
       "    .dataframe tbody tr th {\n",
       "        vertical-align: top;\n",
       "    }\n",
       "\n",
       "    .dataframe thead th {\n",
       "        text-align: right;\n",
       "    }\n",
       "</style>\n",
       "<table border=\"1\" class=\"dataframe\">\n",
       "  <thead>\n",
       "    <tr style=\"text-align: right;\">\n",
       "      <th></th>\n",
       "      <th>imdb_score</th>\n",
       "      <th>gross</th>\n",
       "      <th>movie_facebook_likes</th>\n",
       "      <th>director_facebook_likes</th>\n",
       "      <th>cast_total_facebook_likes</th>\n",
       "      <th>num_user_for_reviews</th>\n",
       "    </tr>\n",
       "  </thead>\n",
       "  <tbody>\n",
       "    <tr>\n",
       "      <th>count</th>\n",
       "      <td>3756.000000</td>\n",
       "      <td>3.756000e+03</td>\n",
       "      <td>3756.000000</td>\n",
       "      <td>3756.000000</td>\n",
       "      <td>3756.000000</td>\n",
       "      <td>3756.000000</td>\n",
       "    </tr>\n",
       "    <tr>\n",
       "      <th>mean</th>\n",
       "      <td>6.465282</td>\n",
       "      <td>5.261282e+07</td>\n",
       "      <td>9353.829340</td>\n",
       "      <td>807.336528</td>\n",
       "      <td>11527.101970</td>\n",
       "      <td>336.843184</td>\n",
       "    </tr>\n",
       "    <tr>\n",
       "      <th>std</th>\n",
       "      <td>1.056247</td>\n",
       "      <td>7.031787e+07</td>\n",
       "      <td>21462.889123</td>\n",
       "      <td>3068.171683</td>\n",
       "      <td>19122.176905</td>\n",
       "      <td>411.227368</td>\n",
       "    </tr>\n",
       "    <tr>\n",
       "      <th>min</th>\n",
       "      <td>1.600000</td>\n",
       "      <td>1.620000e+02</td>\n",
       "      <td>0.000000</td>\n",
       "      <td>0.000000</td>\n",
       "      <td>0.000000</td>\n",
       "      <td>4.000000</td>\n",
       "    </tr>\n",
       "    <tr>\n",
       "      <th>25%</th>\n",
       "      <td>5.900000</td>\n",
       "      <td>8.270233e+06</td>\n",
       "      <td>0.000000</td>\n",
       "      <td>11.000000</td>\n",
       "      <td>1919.750000</td>\n",
       "      <td>110.000000</td>\n",
       "    </tr>\n",
       "    <tr>\n",
       "      <th>50%</th>\n",
       "      <td>6.600000</td>\n",
       "      <td>3.009311e+07</td>\n",
       "      <td>227.000000</td>\n",
       "      <td>64.000000</td>\n",
       "      <td>4059.500000</td>\n",
       "      <td>210.000000</td>\n",
       "    </tr>\n",
       "    <tr>\n",
       "      <th>75%</th>\n",
       "      <td>7.200000</td>\n",
       "      <td>6.688194e+07</td>\n",
       "      <td>11000.000000</td>\n",
       "      <td>235.000000</td>\n",
       "      <td>16240.000000</td>\n",
       "      <td>398.250000</td>\n",
       "    </tr>\n",
       "    <tr>\n",
       "      <th>max</th>\n",
       "      <td>9.300000</td>\n",
       "      <td>7.605058e+08</td>\n",
       "      <td>349000.000000</td>\n",
       "      <td>23000.000000</td>\n",
       "      <td>656730.000000</td>\n",
       "      <td>5060.000000</td>\n",
       "    </tr>\n",
       "  </tbody>\n",
       "</table>\n",
       "</div>"
      ],
      "text/plain": [
       "        imdb_score         gross  movie_facebook_likes  \\\n",
       "count  3756.000000  3.756000e+03           3756.000000   \n",
       "mean      6.465282  5.261282e+07           9353.829340   \n",
       "std       1.056247  7.031787e+07          21462.889123   \n",
       "min       1.600000  1.620000e+02              0.000000   \n",
       "25%       5.900000  8.270233e+06              0.000000   \n",
       "50%       6.600000  3.009311e+07            227.000000   \n",
       "75%       7.200000  6.688194e+07          11000.000000   \n",
       "max       9.300000  7.605058e+08         349000.000000   \n",
       "\n",
       "       director_facebook_likes  cast_total_facebook_likes  \\\n",
       "count              3756.000000                3756.000000   \n",
       "mean                807.336528               11527.101970   \n",
       "std                3068.171683               19122.176905   \n",
       "min                   0.000000                   0.000000   \n",
       "25%                  11.000000                1919.750000   \n",
       "50%                  64.000000                4059.500000   \n",
       "75%                 235.000000               16240.000000   \n",
       "max               23000.000000              656730.000000   \n",
       "\n",
       "       num_user_for_reviews  \n",
       "count           3756.000000  \n",
       "mean             336.843184  \n",
       "std              411.227368  \n",
       "min                4.000000  \n",
       "25%              110.000000  \n",
       "50%              210.000000  \n",
       "75%              398.250000  \n",
       "max             5060.000000  "
      ]
     },
     "execution_count": 18,
     "metadata": {},
     "output_type": "execute_result"
    }
   ],
   "source": [
    "#statistische weergaven van de data\n",
    "data_onderzoekvraag_1.describe()"
   ]
  },
  {
   "cell_type": "code",
   "execution_count": 19,
   "metadata": {},
   "outputs": [],
   "source": [
    "# de kenmerken (populariteit) en de target (omzet)\n",
    "populariteit = ['movie_facebook_likes','director_facebook_likes','cast_total_facebook_likes','num_user_for_reviews']\n",
    "omzet = ['gross']"
   ]
  },
  {
   "cell_type": "code",
   "execution_count": 20,
   "metadata": {},
   "outputs": [],
   "source": [
    "X= data_onderzoekvraag_1[populariteit]\n",
    "y= data_onderzoekvraag_1[omzet]"
   ]
  },
  {
   "cell_type": "code",
   "execution_count": 21,
   "metadata": {},
   "outputs": [
    {
     "data": {
      "text/html": [
       "<div>\n",
       "<style scoped>\n",
       "    .dataframe tbody tr th:only-of-type {\n",
       "        vertical-align: middle;\n",
       "    }\n",
       "\n",
       "    .dataframe tbody tr th {\n",
       "        vertical-align: top;\n",
       "    }\n",
       "\n",
       "    .dataframe thead th {\n",
       "        text-align: right;\n",
       "    }\n",
       "</style>\n",
       "<table border=\"1\" class=\"dataframe\">\n",
       "  <thead>\n",
       "    <tr style=\"text-align: right;\">\n",
       "      <th></th>\n",
       "      <th>movie_facebook_likes</th>\n",
       "      <th>director_facebook_likes</th>\n",
       "      <th>cast_total_facebook_likes</th>\n",
       "      <th>num_user_for_reviews</th>\n",
       "    </tr>\n",
       "  </thead>\n",
       "  <tbody>\n",
       "    <tr>\n",
       "      <th>0</th>\n",
       "      <td>33000.0</td>\n",
       "      <td>0.0</td>\n",
       "      <td>4834.0</td>\n",
       "      <td>3054.0</td>\n",
       "    </tr>\n",
       "    <tr>\n",
       "      <th>1</th>\n",
       "      <td>0.0</td>\n",
       "      <td>563.0</td>\n",
       "      <td>48350.0</td>\n",
       "      <td>1238.0</td>\n",
       "    </tr>\n",
       "    <tr>\n",
       "      <th>2</th>\n",
       "      <td>85000.0</td>\n",
       "      <td>0.0</td>\n",
       "      <td>11700.0</td>\n",
       "      <td>994.0</td>\n",
       "    </tr>\n",
       "    <tr>\n",
       "      <th>3</th>\n",
       "      <td>164000.0</td>\n",
       "      <td>22000.0</td>\n",
       "      <td>106759.0</td>\n",
       "      <td>2701.0</td>\n",
       "    </tr>\n",
       "    <tr>\n",
       "      <th>5</th>\n",
       "      <td>24000.0</td>\n",
       "      <td>475.0</td>\n",
       "      <td>1873.0</td>\n",
       "      <td>738.0</td>\n",
       "    </tr>\n",
       "  </tbody>\n",
       "</table>\n",
       "</div>"
      ],
      "text/plain": [
       "   movie_facebook_likes  director_facebook_likes  cast_total_facebook_likes  \\\n",
       "0               33000.0                      0.0                     4834.0   \n",
       "1                   0.0                    563.0                    48350.0   \n",
       "2               85000.0                      0.0                    11700.0   \n",
       "3              164000.0                  22000.0                   106759.0   \n",
       "5               24000.0                    475.0                     1873.0   \n",
       "\n",
       "   num_user_for_reviews  \n",
       "0                3054.0  \n",
       "1                1238.0  \n",
       "2                 994.0  \n",
       "3                2701.0  \n",
       "5                 738.0  "
      ]
     },
     "execution_count": 21,
     "metadata": {},
     "output_type": "execute_result"
    }
   ],
   "source": [
    "X.head()"
   ]
  },
  {
   "cell_type": "code",
   "execution_count": 22,
   "metadata": {},
   "outputs": [
    {
     "data": {
      "text/html": [
       "<div>\n",
       "<style scoped>\n",
       "    .dataframe tbody tr th:only-of-type {\n",
       "        vertical-align: middle;\n",
       "    }\n",
       "\n",
       "    .dataframe tbody tr th {\n",
       "        vertical-align: top;\n",
       "    }\n",
       "\n",
       "    .dataframe thead th {\n",
       "        text-align: right;\n",
       "    }\n",
       "</style>\n",
       "<table border=\"1\" class=\"dataframe\">\n",
       "  <thead>\n",
       "    <tr style=\"text-align: right;\">\n",
       "      <th></th>\n",
       "      <th>gross</th>\n",
       "    </tr>\n",
       "  </thead>\n",
       "  <tbody>\n",
       "    <tr>\n",
       "      <th>0</th>\n",
       "      <td>760505847.0</td>\n",
       "    </tr>\n",
       "    <tr>\n",
       "      <th>1</th>\n",
       "      <td>309404152.0</td>\n",
       "    </tr>\n",
       "    <tr>\n",
       "      <th>2</th>\n",
       "      <td>200074175.0</td>\n",
       "    </tr>\n",
       "    <tr>\n",
       "      <th>3</th>\n",
       "      <td>448130642.0</td>\n",
       "    </tr>\n",
       "    <tr>\n",
       "      <th>5</th>\n",
       "      <td>73058679.0</td>\n",
       "    </tr>\n",
       "  </tbody>\n",
       "</table>\n",
       "</div>"
      ],
      "text/plain": [
       "         gross\n",
       "0  760505847.0\n",
       "1  309404152.0\n",
       "2  200074175.0\n",
       "3  448130642.0\n",
       "5   73058679.0"
      ]
     },
     "execution_count": 22,
     "metadata": {},
     "output_type": "execute_result"
    }
   ],
   "source": [
    "y.head()"
   ]
  },
  {
   "cell_type": "code",
   "execution_count": 23,
   "metadata": {},
   "outputs": [],
   "source": [
    "# de data splitsen in training en testing data\n",
    "from sklearn.model_selection import train_test_split\n",
    "# test_size\n",
    "X_train, X_test, y_train,y_test = train_test_split(X,y, test_size=0.25, random_state=None) "
   ]
  },
  {
   "cell_type": "code",
   "execution_count": 24,
   "metadata": {},
   "outputs": [],
   "source": [
    "from sklearn.linear_model import LinearRegression"
   ]
  },
  {
   "cell_type": "code",
   "execution_count": 25,
   "metadata": {},
   "outputs": [],
   "source": [
    "linear_reg_model = LinearRegression()"
   ]
  },
  {
   "cell_type": "code",
   "execution_count": 26,
   "metadata": {},
   "outputs": [
    {
     "data": {
      "text/plain": [
       "LinearRegression()"
      ]
     },
     "execution_count": 26,
     "metadata": {},
     "output_type": "execute_result"
    }
   ],
   "source": [
    "linear_reg_model.fit(X_train, y_train)"
   ]
  },
  {
   "cell_type": "code",
   "execution_count": 27,
   "metadata": {},
   "outputs": [],
   "source": [
    "from sklearn.metrics import mean_squared_error\n",
    "\n",
    "y_pred_test = linear_reg_model.predict(X_test)\n",
    "\n",
    "error_metric = mean_squared_error(y_pred=y_pred_test, y_true=y_test)"
   ]
  },
  {
   "cell_type": "code",
   "execution_count": 28,
   "metadata": {},
   "outputs": [
    {
     "data": {
      "text/plain": [
       "Text(0.5, 1.0, 'voorspelling tegen over daadwerkelijke data')"
      ]
     },
     "execution_count": 28,
     "metadata": {},
     "output_type": "execute_result"
    },
    {
     "data": {
      "image/png": "[encoded data removed]",
      "text/plain": [
       "<Figure size 432x288 with 1 Axes>"
      ]
     },
     "metadata": {
      "needs_background": "light"
     },
     "output_type": "display_data"
    }
   ],
   "source": [
    "# model plotten en lineare regressie er in verwerken\n",
    "fig, ax = plt.subplots()\n",
    "ax.scatter(y_test, y_pred_test)\n",
    "ax.plot(y_test, y_test, color='red')\n",
    "ax.set_xlabel('testing')\n",
    "ax.set_ylabel('predicting')\n",
    "ax.set_title('voorspelling tegen over daadwerkelijke data')"
   ]
  },
  {
   "cell_type": "code",
   "execution_count": 29,
   "metadata": {},
   "outputs": [
    {
     "data": {
      "text/plain": [
       "array([[3.91793312e+08]])"
      ]
     },
     "execution_count": 29,
     "metadata": {},
     "output_type": "execute_result"
    }
   ],
   "source": [
    "# bij deze code wordt de omzet voorspelt op basis van de ingevulde waardes\n",
    "from collections import OrderedDict\n",
    "new_data = OrderedDict([\n",
    "    ('movie_facebook_likes',164000),\n",
    "    ('director_facebook_likes',22000),\n",
    "    ('cast_total_facebook_likes',126759),\n",
    "    ('num_of_user_reviews',2700)\n",
    "])\n",
    "\n",
    "new_data = pd.Series(new_data).values.reshape(1,-1)\n",
    "\n",
    "linear_reg_model.predict(new_data)"
   ]
  },
  {
   "cell_type": "markdown",
   "metadata": {},
   "source": [
    "# Clustering "
   ]
  },
  {
   "cell_type": "code",
   "execution_count": 30,
   "metadata": {},
   "outputs": [
    {
     "name": "stdout",
     "output_type": "stream",
     "text": [
      "[[7.48030878e+00 1.08166977e+01 1.53774236e+00 0.00000000e+00\n",
      "  2.52829145e-01 7.42753733e+00]\n",
      " [6.72280915e+00 4.40066461e+00 0.00000000e+00 1.83521335e-01\n",
      "  2.52881447e+00 3.01090086e+00]\n",
      " [6.43874680e+00 2.84566104e+00 3.96085154e+00 0.00000000e+00\n",
      "  6.11936490e-01 2.41747613e+00]\n",
      " ...\n",
      " [6.62812170e+00 6.04137432e-03 8.85366815e-01 9.48573860e-02\n",
      "  1.92472332e-02 9.02297430e-01]\n",
      " [6.53343425e+00 2.90280669e-02 0.00000000e+00 0.00000000e+00\n",
      "  7.68843282e-03 3.16168911e-01]\n",
      " [6.24937189e+00 1.21211508e-03 2.12488036e-02 5.21552638e-03\n",
      "  8.52526905e-03 2.04293758e-01]]\n"
     ]
    }
   ],
   "source": [
    "#Normalizeren van de data\n",
    "#De data heeft veel verschillende niveaus van nummers vandaar dat de normalisering nodig is\n",
    "scaled_data_vraag_1 = whiten(data_onderzoekvraag_1)\n",
    "print(scaled_data_vraag_1)"
   ]
  },
  {
   "cell_type": "code",
   "execution_count": 31,
   "metadata": {},
   "outputs": [
    {
     "data": {
      "text/html": [
       "<div>\n",
       "<style scoped>\n",
       "    .dataframe tbody tr th:only-of-type {\n",
       "        vertical-align: middle;\n",
       "    }\n",
       "\n",
       "    .dataframe tbody tr th {\n",
       "        vertical-align: top;\n",
       "    }\n",
       "\n",
       "    .dataframe thead th {\n",
       "        text-align: right;\n",
       "    }\n",
       "</style>\n",
       "<table border=\"1\" class=\"dataframe\">\n",
       "  <thead>\n",
       "    <tr style=\"text-align: right;\">\n",
       "      <th></th>\n",
       "      <th>imdb_score</th>\n",
       "      <th>gross</th>\n",
       "      <th>movie_facebook_likes</th>\n",
       "      <th>director_facebook_likes</th>\n",
       "      <th>cast_total_facebook_likes</th>\n",
       "      <th>num_user_for_reviews</th>\n",
       "    </tr>\n",
       "  </thead>\n",
       "  <tbody>\n",
       "    <tr>\n",
       "      <th>0</th>\n",
       "      <td>7.480309</td>\n",
       "      <td>10.816698</td>\n",
       "      <td>1.537742</td>\n",
       "      <td>0.000000</td>\n",
       "      <td>0.252829</td>\n",
       "      <td>7.427537</td>\n",
       "    </tr>\n",
       "    <tr>\n",
       "      <th>1</th>\n",
       "      <td>6.722809</td>\n",
       "      <td>4.400665</td>\n",
       "      <td>0.000000</td>\n",
       "      <td>0.183521</td>\n",
       "      <td>2.528814</td>\n",
       "      <td>3.010901</td>\n",
       "    </tr>\n",
       "    <tr>\n",
       "      <th>2</th>\n",
       "      <td>6.438747</td>\n",
       "      <td>2.845661</td>\n",
       "      <td>3.960852</td>\n",
       "      <td>0.000000</td>\n",
       "      <td>0.611936</td>\n",
       "      <td>2.417476</td>\n",
       "    </tr>\n",
       "    <tr>\n",
       "      <th>3</th>\n",
       "      <td>8.048433</td>\n",
       "      <td>6.373776</td>\n",
       "      <td>7.642114</td>\n",
       "      <td>7.171349</td>\n",
       "      <td>5.583737</td>\n",
       "      <td>6.569017</td>\n",
       "    </tr>\n",
       "    <tr>\n",
       "      <th>4</th>\n",
       "      <td>6.249372</td>\n",
       "      <td>1.039116</td>\n",
       "      <td>1.118358</td>\n",
       "      <td>0.154836</td>\n",
       "      <td>0.097962</td>\n",
       "      <td>1.794867</td>\n",
       "    </tr>\n",
       "  </tbody>\n",
       "</table>\n",
       "</div>"
      ],
      "text/plain": [
       "   imdb_score      gross  movie_facebook_likes  director_facebook_likes  \\\n",
       "0    7.480309  10.816698              1.537742                 0.000000   \n",
       "1    6.722809   4.400665              0.000000                 0.183521   \n",
       "2    6.438747   2.845661              3.960852                 0.000000   \n",
       "3    8.048433   6.373776              7.642114                 7.171349   \n",
       "4    6.249372   1.039116              1.118358                 0.154836   \n",
       "\n",
       "   cast_total_facebook_likes  num_user_for_reviews  \n",
       "0                   0.252829              7.427537  \n",
       "1                   2.528814              3.010901  \n",
       "2                   0.611936              2.417476  \n",
       "3                   5.583737              6.569017  \n",
       "4                   0.097962              1.794867  "
      ]
     },
     "execution_count": 31,
     "metadata": {},
     "output_type": "execute_result"
    }
   ],
   "source": [
    "#genormaliseerde data in een df plaatsen\n",
    "scaled_df_vraag1 = pd.DataFrame(scaled_data_vraag_1,columns=['imdb_score','gross','movie_facebook_likes','director_facebook_likes','cast_total_facebook_likes','num_user_for_reviews'])\n",
    "scaled_df_vraag1.head()"
   ]
  },
  {
   "cell_type": "code",
   "execution_count": 32,
   "metadata": {},
   "outputs": [
    {
     "data": {
      "text/plain": [
       "<matplotlib.axes._subplots.AxesSubplot at 0x22713cdbb80>"
      ]
     },
     "execution_count": 32,
     "metadata": {},
     "output_type": "execute_result"
    },
    {
     "data": {
      "image/png": "[encoded data removed]",
      "text/plain": [
       "<Figure size 432x288 with 1 Axes>"
      ]
     },
     "metadata": {
      "needs_background": "light"
     },
     "output_type": "display_data"
    }
   ],
   "source": [
    "scaled_df_vraag1.plot.scatter(x=['movie_facebook_likes'],y=['gross'])"
   ]
  },
  {
   "cell_type": "code",
   "execution_count": 33,
   "metadata": {},
   "outputs": [
    {
     "data": {
      "text/plain": [
       "KMeans(n_clusters=6)"
      ]
     },
     "execution_count": 33,
     "metadata": {},
     "output_type": "execute_result"
    }
   ],
   "source": [
    "km = KMeans(n_clusters=6)\n",
    "km"
   ]
  },
  {
   "cell_type": "code",
   "execution_count": 34,
   "metadata": {},
   "outputs": [
    {
     "data": {
      "text/plain": [
       "array([3, 3, 2, ..., 4, 0, 0])"
      ]
     },
     "execution_count": 34,
     "metadata": {},
     "output_type": "execute_result"
    }
   ],
   "source": [
    "y_predicted = km.fit_predict(scaled_df_vraag1 [['movie_facebook_likes','gross']])\n",
    "y_predicted"
   ]
  },
  {
   "cell_type": "code",
   "execution_count": 35,
   "metadata": {},
   "outputs": [
    {
     "data": {
      "text/plain": [
       "array([[0.06793053, 0.31108464],\n",
       "       [0.21113453, 1.75040481],\n",
       "       [3.63582872, 1.42019951],\n",
       "       [1.20304534, 4.29144447],\n",
       "       [1.30122093, 0.60686701],\n",
       "       [6.99532981, 4.6025828 ]])"
      ]
     },
     "execution_count": 35,
     "metadata": {},
     "output_type": "execute_result"
    }
   ],
   "source": [
    "km.cluster_centers_"
   ]
  },
  {
   "cell_type": "code",
   "execution_count": 36,
   "metadata": {},
   "outputs": [
    {
     "data": {
      "text/html": [
       "<div>\n",
       "<style scoped>\n",
       "    .dataframe tbody tr th:only-of-type {\n",
       "        vertical-align: middle;\n",
       "    }\n",
       "\n",
       "    .dataframe tbody tr th {\n",
       "        vertical-align: top;\n",
       "    }\n",
       "\n",
       "    .dataframe thead th {\n",
       "        text-align: right;\n",
       "    }\n",
       "</style>\n",
       "<table border=\"1\" class=\"dataframe\">\n",
       "  <thead>\n",
       "    <tr style=\"text-align: right;\">\n",
       "      <th></th>\n",
       "      <th>imdb_score</th>\n",
       "      <th>gross</th>\n",
       "      <th>movie_facebook_likes</th>\n",
       "      <th>director_facebook_likes</th>\n",
       "      <th>cast_total_facebook_likes</th>\n",
       "      <th>num_user_for_reviews</th>\n",
       "      <th>cluster</th>\n",
       "    </tr>\n",
       "  </thead>\n",
       "  <tbody>\n",
       "    <tr>\n",
       "      <th>0</th>\n",
       "      <td>7.480309</td>\n",
       "      <td>10.816698</td>\n",
       "      <td>1.537742</td>\n",
       "      <td>0.000000</td>\n",
       "      <td>0.252829</td>\n",
       "      <td>7.427537</td>\n",
       "      <td>3</td>\n",
       "    </tr>\n",
       "    <tr>\n",
       "      <th>1</th>\n",
       "      <td>6.722809</td>\n",
       "      <td>4.400665</td>\n",
       "      <td>0.000000</td>\n",
       "      <td>0.183521</td>\n",
       "      <td>2.528814</td>\n",
       "      <td>3.010901</td>\n",
       "      <td>3</td>\n",
       "    </tr>\n",
       "    <tr>\n",
       "      <th>2</th>\n",
       "      <td>6.438747</td>\n",
       "      <td>2.845661</td>\n",
       "      <td>3.960852</td>\n",
       "      <td>0.000000</td>\n",
       "      <td>0.611936</td>\n",
       "      <td>2.417476</td>\n",
       "      <td>2</td>\n",
       "    </tr>\n",
       "    <tr>\n",
       "      <th>3</th>\n",
       "      <td>8.048433</td>\n",
       "      <td>6.373776</td>\n",
       "      <td>7.642114</td>\n",
       "      <td>7.171349</td>\n",
       "      <td>5.583737</td>\n",
       "      <td>6.569017</td>\n",
       "      <td>5</td>\n",
       "    </tr>\n",
       "    <tr>\n",
       "      <th>4</th>\n",
       "      <td>6.249372</td>\n",
       "      <td>1.039116</td>\n",
       "      <td>1.118358</td>\n",
       "      <td>0.154836</td>\n",
       "      <td>0.097962</td>\n",
       "      <td>1.794867</td>\n",
       "      <td>4</td>\n",
       "    </tr>\n",
       "  </tbody>\n",
       "</table>\n",
       "</div>"
      ],
      "text/plain": [
       "   imdb_score      gross  movie_facebook_likes  director_facebook_likes  \\\n",
       "0    7.480309  10.816698              1.537742                 0.000000   \n",
       "1    6.722809   4.400665              0.000000                 0.183521   \n",
       "2    6.438747   2.845661              3.960852                 0.000000   \n",
       "3    8.048433   6.373776              7.642114                 7.171349   \n",
       "4    6.249372   1.039116              1.118358                 0.154836   \n",
       "\n",
       "   cast_total_facebook_likes  num_user_for_reviews  cluster  \n",
       "0                   0.252829              7.427537        3  \n",
       "1                   2.528814              3.010901        3  \n",
       "2                   0.611936              2.417476        2  \n",
       "3                   5.583737              6.569017        5  \n",
       "4                   0.097962              1.794867        4  "
      ]
     },
     "execution_count": 36,
     "metadata": {},
     "output_type": "execute_result"
    }
   ],
   "source": [
    "scaled_df_vraag1['cluster']= y_predicted\n",
    "scaled_df_vraag1.head()"
   ]
  },
  {
   "cell_type": "code",
   "execution_count": 37,
   "metadata": {},
   "outputs": [
    {
     "data": {
      "text/plain": [
       "<matplotlib.legend.Legend at 0x227141e0a30>"
      ]
     },
     "execution_count": 37,
     "metadata": {},
     "output_type": "execute_result"
    },
    {
     "data": {
      "image/png": "[encoded data removed]",
      "text/plain": [
       "<Figure size 432x288 with 1 Axes>"
      ]
     },
     "metadata": {
      "needs_background": "light"
     },
     "output_type": "display_data"
    }
   ],
   "source": [
    "#alle clusters zelf bepalen voor het plotten\n",
    "df1 = scaled_df_vraag1[scaled_df_vraag1.cluster==0]\n",
    "df2 = scaled_df_vraag1[scaled_df_vraag1.cluster==1]\n",
    "df3 = scaled_df_vraag1[scaled_df_vraag1.cluster==2]\n",
    "df4 = scaled_df_vraag1[scaled_df_vraag1.cluster==3]\n",
    "df5 = scaled_df_vraag1[scaled_df_vraag1.cluster==4]\n",
    "df6 = scaled_df_vraag1[scaled_df_vraag1.cluster==5]\n",
    "\n",
    "#plotten van de clusters\n",
    "plt.scatter(df1['movie_facebook_likes'],df1['gross'], color='green',label='0')\n",
    "plt.scatter(df2['movie_facebook_likes'],df2['gross'], color='red',label='1')\n",
    "plt.scatter(df3['movie_facebook_likes'],df3['gross'], color='orange',label='2')\n",
    "plt.scatter(df4['movie_facebook_likes'],df4['gross'], color='blue',label='3')\n",
    "plt.scatter(df5['movie_facebook_likes'],df5['gross'], color='yellow',label='4')\n",
    "plt.scatter(df6['movie_facebook_likes'],df6['gross'], color='purple',label='5')\n",
    "plt.scatter(km.cluster_centers_[:,0],km.cluster_centers_[:,1],color = 'black',marker = '*',label='centroids')\n",
    "\n",
    "plt.xlabel('movie_facebook_likes')\n",
    "plt.ylabel('gross')\n",
    "plt.legend()"
   ]
  },
  {
   "cell_type": "code",
   "execution_count": 38,
   "metadata": {},
   "outputs": [],
   "source": [
    "# de optimale clusters bepalen aan de hand van de elbow method\n",
    "distortions = []\n",
    "K = range(1,10)\n",
    "for k in K:\n",
    "    kmeanModel = KMeans(n_clusters=k)\n",
    "    kmeanModel.fit(scaled_df_vraag1)\n",
    "    distortions.append(kmeanModel.inertia_)"
   ]
  },
  {
   "cell_type": "code",
   "execution_count": 39,
   "metadata": {},
   "outputs": [
    {
     "data": {
      "image/png": "[encoded data removed]",
      "text/plain": [
       "<Figure size 1152x576 with 1 Axes>"
      ]
     },
     "metadata": {
      "needs_background": "light"
     },
     "output_type": "display_data"
    }
   ],
   "source": [
    "plt.figure(figsize= (16,8))\n",
    "plt.plot(K, distortions, 'bx-')\n",
    "plt.xlabel('k')\n",
    "plt.ylabel('distortions')\n",
    "plt.title('weergeven van de optimalen k in the scaled data.')\n",
    "plt.show()"
   ]
  },
  {
   "cell_type": "markdown",
   "metadata": {},
   "source": [
    "bij 3 clusters zit de knik echter vonden wij dat 6 cluster beter was bij ons model. "
   ]
  },
  {
   "cell_type": "markdown",
   "metadata": {},
   "source": [
    "### Onderzoeksvraag 2 conclusie en uitwerkingen.\n",
    "Onderzoeksvraag: welke kenmerken van een film bepalen de imdb score?\n",
    "\n",
    "Conclusie: Er lijkt zich tussen geen van de kenmerken die in onze dataset staan een duidelijke correlatie te bevinden ten opzichte van de imdb-score. Zoals in de tabel hieronder te zien dat enkel en alleen tussen de duration en de imdb-score een matige correlatie bestaat. De correlatie coëfficient is namelijk 0.366 waar je bij 0.3-0.69 een matige correlatie hebt. In de grafieken daaronder is te zien dat bijvoorbeeld het gross/imdb-score en de duration/imdb-score wel deels gepaard lijken te stijgen, maar dus niet van elkaar afhankelijk zijn.\n"
   ]
  },
  {
   "cell_type": "code",
   "execution_count": 40,
   "metadata": {},
   "outputs": [
    {
     "data": {
      "text/html": [
       "<div>\n",
       "<style scoped>\n",
       "    .dataframe tbody tr th:only-of-type {\n",
       "        vertical-align: middle;\n",
       "    }\n",
       "\n",
       "    .dataframe tbody tr th {\n",
       "        vertical-align: top;\n",
       "    }\n",
       "\n",
       "    .dataframe thead th {\n",
       "        text-align: right;\n",
       "    }\n",
       "</style>\n",
       "<table border=\"1\" class=\"dataframe\">\n",
       "  <thead>\n",
       "    <tr style=\"text-align: right;\">\n",
       "      <th></th>\n",
       "      <th>duration</th>\n",
       "      <th>gross</th>\n",
       "      <th>budget</th>\n",
       "      <th>imdb_score</th>\n",
       "    </tr>\n",
       "  </thead>\n",
       "  <tbody>\n",
       "    <tr>\n",
       "      <th>duration</th>\n",
       "      <td>1.000000</td>\n",
       "      <td>0.245726</td>\n",
       "      <td>0.068012</td>\n",
       "      <td>0.366221</td>\n",
       "    </tr>\n",
       "    <tr>\n",
       "      <th>gross</th>\n",
       "      <td>0.245726</td>\n",
       "      <td>1.000000</td>\n",
       "      <td>0.099496</td>\n",
       "      <td>0.214740</td>\n",
       "    </tr>\n",
       "    <tr>\n",
       "      <th>budget</th>\n",
       "      <td>0.068012</td>\n",
       "      <td>0.099496</td>\n",
       "      <td>1.000000</td>\n",
       "      <td>0.029190</td>\n",
       "    </tr>\n",
       "    <tr>\n",
       "      <th>imdb_score</th>\n",
       "      <td>0.366221</td>\n",
       "      <td>0.214740</td>\n",
       "      <td>0.029190</td>\n",
       "      <td>1.000000</td>\n",
       "    </tr>\n",
       "  </tbody>\n",
       "</table>\n",
       "</div>"
      ],
      "text/plain": [
       "            duration     gross    budget  imdb_score\n",
       "duration    1.000000  0.245726  0.068012    0.366221\n",
       "gross       0.245726  1.000000  0.099496    0.214740\n",
       "budget      0.068012  0.099496  1.000000    0.029190\n",
       "imdb_score  0.366221  0.214740  0.029190    1.000000"
      ]
     },
     "execution_count": 40,
     "metadata": {},
     "output_type": "execute_result"
    }
   ],
   "source": [
    "# Find correlation coefficient.\n",
    "data_onderzoekvraag_2[['duration','gross','budget', 'imdb_score']].corr()"
   ]
  },
  {
   "cell_type": "code",
   "execution_count": 41,
   "metadata": {},
   "outputs": [
    {
     "data": {
      "text/plain": [
       "<matplotlib.axes._subplots.AxesSubplot at 0x227142948e0>"
      ]
     },
     "execution_count": 41,
     "metadata": {},
     "output_type": "execute_result"
    },
    {
     "data": {
      "image/png": "[encoded data removed]",
      "text/plain": [
       "<Figure size 432x288 with 1 Axes>"
      ]
     },
     "metadata": {
      "needs_background": "light"
     },
     "output_type": "display_data"
    }
   ],
   "source": [
    "data_onderzoekvraag_2.plot.scatter(x = 'imdb_score', y = 'gross')"
   ]
  },
  {
   "cell_type": "markdown",
   "metadata": {},
   "source": [
    "#### Graph gross/imdb-score\n",
    "We verwachtten dat de correlatie tussen het gross en de imdb score de meest duidelijke zou zijn. Simpelweg omdat als een film een goede imdb score krijgt (en dus waarschijnlijk van hoge kwaliteit is) het logisch is dat de film ook meer opbrengt. Deze hypothese lijkt na het plotten van de twee variablen voor sommige films te kloppen alhoewel het blijkbaar niet altijd zo is, het merendeel van de films met een imdb-score boven de 5 heeft namelijk juist steeds een redelijk lage opbrengst. En dat terwijl de imdb-score toch hoog is. Wat betreft de films met een imdb-score onder de 5 komt de grafiek wel overeen met onze verwachtingen."
   ]
  },
  {
   "cell_type": "code",
   "execution_count": 42,
   "metadata": {},
   "outputs": [
    {
     "data": {
      "text/plain": [
       "<matplotlib.axes._subplots.AxesSubplot at 0x2271475a160>"
      ]
     },
     "execution_count": 42,
     "metadata": {},
     "output_type": "execute_result"
    },
    {
     "data": {
      "image/png": "[encoded data removed]",
      "text/plain": [
       "<Figure size 432x288 with 1 Axes>"
      ]
     },
     "metadata": {
      "needs_background": "light"
     },
     "output_type": "display_data"
    }
   ],
   "source": [
    "data_onderzoekvraag_2.plot.scatter(x = 'imdb_score', y = 'title_year')"
   ]
  },
  {
   "cell_type": "markdown",
   "metadata": {},
   "source": [
    "#### Graph title_year/imdb_score\n",
    "Over de correlatie tussen de imdb-score en het title_year vonden we het lastig om een hypothese op te stellen. We gingen ervan uit dat de nieuwere films over het algemeen een betere imdb-score zouden hebben doordat ze relevanter zouden zijn voor het publiek. Na het plotten bleek echter dat zo goed als alle oudere films juist een zeer positieve score hadden gekregen. Dit kwam dus niet echt overeen met onze hypothese, maar achteraf is het toch best logisch. Simpelweg omdat de meeste oudere films de test van tijd niet hebben doorstaan en dus alleen de beste zijn meegenomen en in de database staan. Een ander component dat wellicht meespeelt in dit resultaat is dat de filmwereld veel minder toegankelijk was vroeg en dus alleen grotere producties films konden maken waardoor de kwaliteit hoger zou zijn (logischerwijs voornamelijk qua inhoud en verhaal ten opzichte van techniek)."
   ]
  },
  {
   "cell_type": "code",
   "execution_count": 43,
   "metadata": {
    "scrolled": true
   },
   "outputs": [
    {
     "data": {
      "text/plain": [
       "<matplotlib.axes._subplots.AxesSubplot at 0x227143093a0>"
      ]
     },
     "execution_count": 43,
     "metadata": {},
     "output_type": "execute_result"
    },
    {
     "data": {
      "image/png": "[encoded data removed]",
      "text/plain": [
       "<Figure size 432x288 with 1 Axes>"
      ]
     },
     "metadata": {
      "needs_background": "light"
     },
     "output_type": "display_data"
    }
   ],
   "source": [
    "data_onderzoekvraag_2.plot.scatter(x = 'imdb_score', y = 'budget')"
   ]
  },
  {
   "cell_type": "markdown",
   "metadata": {},
   "source": [
    "#### Graph budget/imdb-score\n",
    "Onze verwachtingen over de correlatie tussen het budget en de imdb_score waren dat het budget een redelijk grote impact zou hebben op de imdb-score. Het leek ons logisch dat des te meer een productie heeft om uit te geven aan de film des te beter het resultaat zou zijn. Dit bleek echter niet te kloppen, sterker nog het budget leek nauwelijks invloed te hebben op de imdb-score. De paar uitschieters die we zien in de grafiek zijn wel allemaal films met een score van 6 of hoger maar het is zeker niet genoeg om te concluderen dat er een correlatie bestaat.\n",
    "\n",
    "Nou is het in onze ogen ook goed dat deze correlatie niet bestaat, want geld zou geen grote factor moeten spelen in de rating van een film."
   ]
  },
  {
   "cell_type": "code",
   "execution_count": 44,
   "metadata": {
    "scrolled": true
   },
   "outputs": [
    {
     "data": {
      "text/plain": [
       "<matplotlib.axes._subplots.AxesSubplot at 0x22714364c10>"
      ]
     },
     "execution_count": 44,
     "metadata": {},
     "output_type": "execute_result"
    },
    {
     "data": {
      "image/png": "[encoded data removed]",
      "text/plain": [
       "<Figure size 432x288 with 1 Axes>"
      ]
     },
     "metadata": {
      "needs_background": "light"
     },
     "output_type": "display_data"
    }
   ],
   "source": [
    "data_onderzoekvraag_2.plot.scatter(x = 'imdb_score', y = 'duration')"
   ]
  },
  {
   "cell_type": "markdown",
   "metadata": {},
   "source": [
    "#### Graph duration/imdb-score\n",
    "Over de correlatie tussen de duration en de imdb-score vonden we het ook lastig om een hypothese op te stellen. Het enige dat ons logisch leek was dat hele lange films wellicht een lagere imdb-score zouden krijgen doordat het vaak lastig is om zo lang de aandacht van het publiek erbij te houden. Dit bleek niet correct te zijn, want de meeste langere films scoren juist hoger dan dan kortere films. Volgens ons kan dit komen doordat er in een langere film meer tijd is om een verhaal gedetailleerder uit te leggen, maar naast dat hebben we geen idee waarom langere films het beter doen dan kortere films."
   ]
  },
  {
   "cell_type": "markdown",
   "metadata": {},
   "source": [
    "### Onderzoeksvraag 3 conclusie en uitwerkingen.\n",
    "Onderzoeksvraag: Welke genres zijn over de loop van de jaren populairder geworden?\n",
    "\n",
    "Conclusie: \n",
    "zo goed als alle genres zijn beter gaan lopen, dat heeft ermee te maken dat de film industrie een stuk groter is geworden vergeleken met vorige eeuw. Een paar uitzonderingen zijn: Western, musical en thriller (op basis van de dataset). Die zijn volgens de cijfers eigenlijk niet meer uitgebracht.\n",
    "\n",
    "Note: Omdat natuurlijk niet alle films ooit in deze dataset staan, zijn de antwoorden niet 100% exact, zo geloof ik persoonlijk niet dat er geen Thrillers meer gemaakt zijn. (Die heeft namelijk een 0)"
   ]
  },
  {
   "cell_type": "code",
   "execution_count": 45,
   "metadata": {},
   "outputs": [],
   "source": [
    "# gemaakt voor de main loop in cell 45. \n",
    "# Maakt een lijst aan met alle genres één keer daarin. 17 in totaal\n",
    "all_genres_duplicates = data_onderzoekvraag_3['main_genre'].values.tolist()\n",
    "all_genres_once = []\n",
    "for i in all_genres_duplicates: \n",
    "    if i not in all_genres_once: \n",
    "        all_genres_once.append(i) \n",
    "        \n",
    "all_genres_once.sort()   \n",
    "Genres_Dataset = pd.DataFrame(all_genres_once, columns =['Genre']) # Maakt een dataset met de vergaarde informatie\n",
    "#print(all_genres_once)"
   ]
  },
  {
   "cell_type": "code",
   "execution_count": 46,
   "metadata": {},
   "outputs": [],
   "source": [
    "# gemaakt voor de main loop in cell 45. \n",
    "# Maakt een gesorteerde lijst aan met alle jaren uit de dataset één keer daarin. \n",
    "# 1959-2016. Van 1927 tot 1959 missen er een paar.\n",
    "all_years_duplicates = data_onderzoekvraag_3['title_year'].values.tolist()\n",
    "all_years_once = []\n",
    "for i in all_years_duplicates: \n",
    "    if i not in all_years_once:\n",
    "        all_years_once.append(i) \n",
    "        \n",
    "all_years_once = [round(x) for x in all_years_once]\n",
    "all_years_once.sort()\n",
    "Years_Dataset = pd.DataFrame(all_years_once, columns =['Year']) # Maakt een dataset met de vergaarde informatie\n",
    "#print(all_years_once)"
   ]
  },
  {
   "cell_type": "code",
   "execution_count": null,
   "metadata": {},
   "outputs": [
    {
     "name": "stdout",
     "output_type": "stream",
     "text": [
      "Het gemiddelde van het jaar 1927 voor het genre Action is: 0\n",
      "Het gemiddelde van het jaar 1929 voor het genre Action is: 0\n",
      "Het gemiddelde van het jaar 1933 voor het genre Action is: 0\n",
      "Het gemiddelde van het jaar 1935 voor het genre Action is: 0\n",
      "Het gemiddelde van het jaar 1936 voor het genre Action is: 0\n",
      "Het gemiddelde van het jaar 1937 voor het genre Action is: 0\n",
      "Het gemiddelde van het jaar 1939 voor het genre Action is: 0\n",
      "Het gemiddelde van het jaar 1940 voor het genre Action is: 0\n",
      "Het gemiddelde van het jaar 1946 voor het genre Action is: 0\n",
      "Het gemiddelde van het jaar 1947 voor het genre Action is: 0\n",
      "Het gemiddelde van het jaar 1948 voor het genre Action is: 0\n",
      "Het gemiddelde van het jaar 1950 voor het genre Action is: 0\n",
      "Het gemiddelde van het jaar 1952 voor het genre Action is: 0\n",
      "Het gemiddelde van het jaar 1953 voor het genre Action is: 0\n",
      "Het gemiddelde van het jaar 1954 voor het genre Action is: 8.7\n",
      "Het gemiddelde van het jaar 1957 voor het genre Action is: 0\n",
      "Het gemiddelde van het jaar 1959 voor het genre Action is: 0\n",
      "Het gemiddelde van het jaar 1960 voor het genre Action is: 0\n",
      "Het gemiddelde van het jaar 1961 voor het genre Action is: 0\n"
     ]
    }
   ],
   "source": [
    "# De main loop die alle data goed zet zodat ik de data mooi kan visualizen\n",
    "# Een for loop die die voor elk genre en jaar de gemiddelde imdb score uitrekent. 17*74 = 1258 gemiddelden\n",
    "uitslag = [] \n",
    "for i in range(len(all_genres_once)): \n",
    "    genre = all_genres_once[i]\n",
    "    for i in range(len(all_years_once)):\n",
    "        year = all_years_once[i]\n",
    "        for i in range(len(all_years_once)):\n",
    "                    x = data_onderzoekvraag_3.loc[(data_onderzoekvraag_3['main_genre'] == genre) & (data_onderzoekvraag_3['title_year'] == year)] # selecteert de data die voldoet aan de eisen voor de loop. Bijv.: alle films uit het genre Action en uit het jaar 1982 of alle films uit het genre Western en uit het jaar 1985 \n",
    "                    avg = []\n",
    "                    for i in range(len(x['imdb_score'])): # als er geen film is uitgebracht in een bepaald jaar en genre word de uitkomst automatisch 0.\n",
    "                        avg.append(i)  \n",
    "                    if len(avg) > 0:\n",
    "                        average = np.mean(x['imdb_score']) # berekent het gemiddelde als er een film is uitgebracht in dat jaar en genre.\n",
    "                    else:\n",
    "                        average = 0 # als er geen film is uitgebracht in een bepaald jaar en genre word de uitkomst automatisch 0. Anders krijg je 'divide by zero' error.\n",
    "        print('Het gemiddelde van het jaar {} voor het genre {} is: {}'.format(year, genre, average))\n",
    "        out = (year, genre, average)\n",
    "        uitslag.append(out) # stopt alle uitkomsten in de lijst 'uitslag'. (year, genre, average).\n",
    "\n",
    "#print(uitslag)"
   ]
  },
  {
   "cell_type": "code",
   "execution_count": null,
   "metadata": {},
   "outputs": [],
   "source": [
    "# zet de data van de main loop in een dataset. Met die dataset maak ik de visualisations\n",
    "Uitslag_Dataset = pd.DataFrame(uitslag, columns =['Year', 'Genre', 'Average']) # Maakt een dataset met de vergaarde informatie"
   ]
  },
  {
   "cell_type": "code",
   "execution_count": null,
   "metadata": {
    "scrolled": true
   },
   "outputs": [],
   "source": [
    "# een interactieve visualisatie waar per jaar gekeken kan werden wat de gemiddelde score is van de genres (als dat genre is uitgebracht in dat jaar).\n",
    "select_year = alt.selection_single(\n",
    "    name='Select', fields=['Year'], init={'Year': 2016},\n",
    "    bind=alt.binding_range(min=1927, max=2016, step=1)) # dit zorgt ervoor dat er per jaar gekeken kan worden.\n",
    "\n",
    "# altair.Chart(data=Undefined, encoding=Undefined, mark=Undefined, width=Undefined, height=Undefined, **kwargs)\n",
    "alt.Chart(Uitslag_Dataset).mark_point(filled=True).encode(\n",
    "    alt.X('Average'),\n",
    "    alt.Y('Year'),\n",
    "    alt.Color('Genre'),\n",
    "    alt.OpacityValue(1),\n",
    "    tooltip = [\n",
    "               alt.Tooltip('Genre'),\n",
    "               alt.Tooltip('Year'),\n",
    "               alt.Tooltip('Average')\n",
    "              ]\n",
    ").add_selection(select_year).transform_filter(select_year).interactive() "
   ]
  },
  {
   "cell_type": "code",
   "execution_count": null,
   "metadata": {},
   "outputs": [],
   "source": [
    "# een interactieve visualisatie waar je het totaal plaatje kan zien, alle jaren in een tabel gezet. \n",
    "\n",
    "alt.Chart(Uitslag_Dataset).mark_point(filled=True).encode(\n",
    "    alt.X('Average'),\n",
    "    alt.Y('Year'),\n",
    "    alt.Color('Genre'),\n",
    "    alt.OpacityValue(1),\n",
    "    tooltip = [\n",
    "               alt.Tooltip('Genre'),\n",
    "               alt.Tooltip('Year'),\n",
    "               alt.Tooltip('Average')\n",
    "              ]\n",
    ").interactive()\n",
    "# altair.Chart(data=Undefined, encoding=Undefined, mark=Undefined, width=Undefined, height=Undefined, **kwargs)"
   ]
  },
  {
   "cell_type": "code",
   "execution_count": null,
   "metadata": {
    "scrolled": false
   },
   "outputs": [],
   "source": [
    "brush = alt.selection_interval() # zorgt ervoor dat je een gebied kan selecteren.\n",
    "# altair.Chart(data=Undefined, encoding=Undefined, mark=Undefined, width=Undefined, height=Undefined, **kwargs)\n",
    "\n",
    "points = alt.Chart(Uitslag_Dataset).mark_point().encode(x='Year', y='Average', \n",
    "                                                        color=alt.condition(brush, 'Genre', alt.value('lightgray'))\n",
    "                                                       ).add_selection(brush)\n",
    "bars = alt.Chart(Uitslag_Dataset).mark_bar().encode(y='Average', color='Genre', x='Year').transform_filter(brush)\n",
    "\n",
    "points & bars"
   ]
  },
  {
   "cell_type": "code",
   "execution_count": null,
   "metadata": {},
   "outputs": [],
   "source": [
    "alt.Chart(Uitslag_Dataset).mark_line().encode(\n",
    "    x='Year',\n",
    "    y='Average',\n",
    "    color='Genre',\n",
    "    tooltip = [alt.Tooltip('Genre'), alt.Tooltip('Year'), alt.Tooltip('Average')]\n",
    ").interactive()\n",
    "# altair.Chart(data=Undefined, encoding=Undefined, mark=Undefined, width=Undefined, height=Undefined, **kwargs)"
   ]
  },
  {
   "cell_type": "markdown",
   "metadata": {},
   "source": [
    "### Onderzoeksvraag 4 conclusie en uitwerkingen.\n",
    "Onderzoeksvraag: In hoeverre heeft de release date van een sequel invloed om de IMDB score van die sequel?\n",
    "\n",
    "Conclusie: \n",
    "Uit de resultaten van dit onderzoek kan ten eerste geconcludeerd worden dat de beste tijd om het vervolg van een film uit te brengen is: het zelfde jaar. Zo houd je de mensen in de hype, als het langer duurt zal de hype minder en zo dus ook de rating.\n",
    "Andere leuke feitjes waar we achter zijn gekomen:\n",
    "De tweede film komt gemiddeld 5 jaar later uit en de rating is met 0.6 omlaag gegaan\n",
    "\n",
    "Note: Boven de 10 jaar worden de uitslagen minder exact, puur omdat er maar weinig films zijn die bijvoorbeeld 13 jaar na de eerste uit kwamen. Omdat die uitslagen minder reliable zijn. kijken we daar minder naar, de echte uitslagen zijn 0-10 jaar."
   ]
  },
  {
   "cell_type": "code",
   "execution_count": null,
   "metadata": {},
   "outputs": [],
   "source": [
    "All_First_Movies = data_onderzoekvraag_4.loc[(data_onderzoekvraag_4['Order'] == 1)] # plaatst alle films die de eerste in de serie zijn in lijst\n",
    "All_Second_Movies = data_onderzoekvraag_4.loc[(data_onderzoekvraag_4['Order'] == 2)] # plaatst alle films die de tweede in de serie zijn in lijst\n",
    "Avg_All_First_Movies = np.mean(All_First_Movies['IMDb Rating']) # gemiddelde rating van alle eerste films\n",
    "Avg_All_Second_Movies = np.mean(All_Second_Movies['IMDb Rating']) # gemiddelde rating van alle tweede films\n",
    "IMDB_diff_1vs2 = Avg_All_First_Movies - Avg_All_Second_Movies # het gemiddelde verschil van de 2 gemiddelden\n",
    "\n",
    "All_First_Movies_Release = All_First_Movies['Year'] # alle jaren van de eerste film in een lijst\n",
    "All_Second_Movies_Release = All_Second_Movies['Year'] # alle jaren van de tweede film in een lijst\n",
    "Avg_Release_Year_First = np.mean(All_First_Movies_Release) # gemiddelde jaar van alle eerste films\n",
    "Avg_Release_Year_Second = np.mean(All_Second_Movies_Release) # gemiddelde jaar van alle tweede films\n",
    "Diff_Release_1vs2 = Avg_Release_Year_Second - Avg_Release_Year_First #gemiddelde verschil tussen uitbrengst eerste en tweede film\n",
    "\n",
    "print(IMDB_diff_1vs2)\n",
    "print(Diff_Release_1vs2)"
   ]
  },
  {
   "cell_type": "code",
   "execution_count": null,
   "metadata": {},
   "outputs": [],
   "source": [
    "Data_Tests = data_onderzoekvraag_4.loc[data_onderzoekvraag_4['Order'] < 3 ] # select alle films die eerste of 2 zijn in de serie\n",
    "Year_Rating_Order = Data_Tests.drop(columns=['Title']) # drop naam, die is niet nodig voor dit onderzoek\n",
    "List_Year_Rating_Order = Year_Rating_Order.values.tolist() # maakt een list van de waardes"
   ]
  },
  {
   "cell_type": "code",
   "execution_count": null,
   "metadata": {},
   "outputs": [],
   "source": [
    "# zet alle combos van films (de eerte en tweede film uit de series) in een lijst.\n",
    "lst_combo = []\n",
    "for i in range(len(List_Year_Rating_Order)):\n",
    "    Year = List_Year_Rating_Order[i][0] \n",
    "    Rating = List_Year_Rating_Order[i][1]\n",
    "    Movie_Series = List_Year_Rating_Order[i][2]\n",
    "    Order = List_Year_Rating_Order[i][3]\n",
    "    for i in range(len(List_Year_Rating_Order) -1):\n",
    "        if List_Year_Rating_Order[i][2] == List_Year_Rating_Order[i+1][2]:\n",
    "            Film1 = List_Year_Rating_Order[i]\n",
    "            Film2 = List_Year_Rating_Order[i+1]\n",
    "            Pair = Film1 + Film2\n",
    "            if Pair not in lst_combo:\n",
    "                lst_combo.append(Pair)\n",
    "                \n",
    "#print(lst_combo)"
   ]
  },
  {
   "cell_type": "code",
   "execution_count": null,
   "metadata": {},
   "outputs": [],
   "source": [
    "# berekent per combo (film 1 en 2 uit een serie) het verschil in jaar en rating\n",
    "jaar_Verschil = []\n",
    "for i in range(len(lst_combo)):\n",
    "    Release_diff = lst_combo[i][4] - lst_combo[i][0]\n",
    "    Rating_diff = lst_combo[i][1] - lst_combo[i][5]\n",
    "    opbouw_lst = Release_diff, Rating_diff\n",
    "    jaar_Verschil.append(opbouw_lst)"
   ]
  },
  {
   "cell_type": "code",
   "execution_count": null,
   "metadata": {},
   "outputs": [],
   "source": [
    "# alle jaren die voorkomen één keer in lijst.\n",
    "all_year_diff_once = []\n",
    "for i in range(len(jaar_Verschil)):\n",
    "    jaar = jaar_Verschil[i][0]\n",
    "    if jaar not in all_year_diff_once:\n",
    "        all_year_diff_once.append(jaar)\n",
    "\n",
    "all_year_diff_once.sort()\n",
    "print(all_year_diff_once)"
   ]
  },
  {
   "cell_type": "code",
   "execution_count": null,
   "metadata": {},
   "outputs": [],
   "source": [
    "# Zet alle films met een bepaalde waarde (verschil in jaar) in een lijst. zodat we later het gemiddelde kunnen uitrekenen.\n",
    "zelfde_jaar = []\n",
    "een = []\n",
    "twee= []\n",
    "drie = []\n",
    "vier = []\n",
    "vijf = []\n",
    "zes = []\n",
    "zeven = []\n",
    "acht = []\n",
    "negen = []\n",
    "tien = []\n",
    "elf = []\n",
    "twaalf = []\n",
    "dertien = []\n",
    "veertien = []\n",
    "vijftien = []\n",
    "zeventien = []\n",
    "twintig = []\n",
    "jaar_21 = []\n",
    "jaar_23 = []\n",
    "jaar_35 = []\n",
    "for i in range(len(jaar_Verschil)):\n",
    "    if jaar_Verschil[i][0] == 0.0:\n",
    "        zelfde_jaar.append(jaar_Verschil[i])\n",
    "    if jaar_Verschil[i][0] == 1.0:\n",
    "        een.append(jaar_Verschil[i])\n",
    "    if jaar_Verschil[i][0] == 2.0:\n",
    "        twee.append(jaar_Verschil[i])\n",
    "    if jaar_Verschil[i][0] == 3.0:\n",
    "        drie.append(jaar_Verschil[i])\n",
    "    if jaar_Verschil[i][0] == 4.0:\n",
    "        vier.append(jaar_Verschil[i])\n",
    "    if jaar_Verschil[i][0] == 5.0:\n",
    "        vijf.append(jaar_Verschil[i])\n",
    "    if jaar_Verschil[i][0] == 6.0:\n",
    "        zes.append(jaar_Verschil[i])\n",
    "    if jaar_Verschil[i][0] == 7.0:\n",
    "        zeven.append(jaar_Verschil[i])\n",
    "    if jaar_Verschil[i][0] == 8.0:\n",
    "        acht.append(jaar_Verschil[i])\n",
    "    if jaar_Verschil[i][0] == 9.0:\n",
    "        negen.append(jaar_Verschil[i])\n",
    "    if jaar_Verschil[i][0] == 10.0:\n",
    "        tien.append(jaar_Verschil[i])\n",
    "    if jaar_Verschil[i][0] == 11.0:\n",
    "        elf.append(jaar_Verschil[i])\n",
    "    if jaar_Verschil[i][0] == 12.0:\n",
    "        twaalf.append(jaar_Verschil[i])\n",
    "    if jaar_Verschil[i][0] == 13.0:\n",
    "        dertien.append(jaar_Verschil[i])\n",
    "    if jaar_Verschil[i][0] == 14.0:\n",
    "        veertien.append(jaar_Verschil[i])\n",
    "    if jaar_Verschil[i][0] == 15.0:\n",
    "        vijftien.append(jaar_Verschil[i])\n",
    "    if jaar_Verschil[i][0] == 17.0:\n",
    "        zeventien.append(jaar_Verschil[i])\n",
    "    if jaar_Verschil[i][0] == 20.0:\n",
    "        twintig.append(jaar_Verschil[i])\n",
    "    if jaar_Verschil[i][0] == 21.0:\n",
    "        jaar_21.append(jaar_Verschil[i])\n",
    "    if jaar_Verschil[i][0] == 23.0:\n",
    "        jaar_23.append(jaar_Verschil[i])\n",
    "    if jaar_Verschil[i][0] == 35.0:\n",
    "        jaar_35.append(jaar_Verschil[i])"
   ]
  },
  {
   "cell_type": "code",
   "execution_count": null,
   "metadata": {},
   "outputs": [],
   "source": [
    "# maakt een dataset van de data en berekent het gemiddelde.\n",
    "dataset_avg_diff_zelfde_jaar = pd.DataFrame(zelfde_jaar)\n",
    "avg_diff_zelfde_jaar = np.mean(dataset_avg_diff_zelfde_jaar[1])\n",
    "dataset_avg_diff_een = pd.DataFrame(een)\n",
    "avg_diff_een = np.mean(dataset_avg_diff_een[1])\n",
    "dataset_avg_diff_twee = pd.DataFrame(twee)\n",
    "avg_diff_twee = np.mean(dataset_avg_diff_twee[1])   \n",
    "dataset_avg_diff_drie = pd.DataFrame(drie)\n",
    "avg_diff_drie = np.mean(dataset_avg_diff_drie[1])\n",
    "dataset_avg_diff_vier = pd.DataFrame(vier)\n",
    "avg_diff_vier = np.mean(dataset_avg_diff_vier[1])  \n",
    "dataset_avg_diff_vijf = pd.DataFrame(vijf)\n",
    "avg_diff_vijf = np.mean(dataset_avg_diff_vijf[1]) \n",
    "dataset_avg_diff_zes = pd.DataFrame(zes)\n",
    "avg_diff_zes = np.mean(dataset_avg_diff_zes[1])\n",
    "dataset_avg_diff_zeven = pd.DataFrame(zeven) \n",
    "avg_diff_zeven = np.mean(dataset_avg_diff_zeven[1])\n",
    "dataset_avg_diff_acht = pd.DataFrame(acht)\n",
    "avg_diff_acht = np.mean(dataset_avg_diff_acht[1])\n",
    "dataset_avg_diff_negen = pd.DataFrame(negen)\n",
    "avg_diff_negen = np.mean(dataset_avg_diff_negen[1])   \n",
    "dataset_avg_diff_tien = pd.DataFrame(tien)\n",
    "avg_diff_tien = np.mean(dataset_avg_diff_tien[1]) \n",
    "dataset_avg_diff_elf = pd.DataFrame(elf)\n",
    "avg_diff_elf = np.mean(dataset_avg_diff_elf[1])   \n",
    "dataset_avg_diff_twaalf = pd.DataFrame(twaalf)\n",
    "avg_diff_twaalf = np.mean(dataset_avg_diff_twaalf[1])\n",
    "dataset_avg_diff_dertien = pd.DataFrame(dertien)\n",
    "avg_diff_dertien = np.mean(dataset_avg_diff_dertien[1]) \n",
    "dataset_avg_diff_veertien = pd.DataFrame(veertien)\n",
    "avg_diff_veertien = np.mean(dataset_avg_diff_veertien[1]) \n",
    "dataset_avg_diff_vijftien = pd.DataFrame(vijftien)\n",
    "avg_diff_vijftien = np.mean(dataset_avg_diff_vijftien[1])  \n",
    "dataset_avg_diff_zeventien = pd.DataFrame(zeventien)\n",
    "avg_diff_zeventien = np.mean(dataset_avg_diff_zeventien[1])\n",
    "dataset_avg_diff_twintig = pd.DataFrame(twintig)\n",
    "avg_diff_twintig = np.mean(dataset_avg_diff_twintig[1])   \n",
    "dataset_avg_diff_21 = pd.DataFrame(jaar_21)\n",
    "avg_diff_21 = np.mean(dataset_avg_diff_21[1])\n",
    "dataset_avg_diff_23 = pd.DataFrame(jaar_23)\n",
    "avg_diff_23 = np.mean(dataset_avg_diff_23[1]) \n",
    "dataset_avg_diff_35 = pd.DataFrame(jaar_35)\n",
    "avg_diff_35 = np.mean(dataset_avg_diff_35[1])"
   ]
  },
  {
   "cell_type": "code",
   "execution_count": null,
   "metadata": {},
   "outputs": [],
   "source": [
    "Dataset_verschil_imdb = pd.DataFrame(np.array([[0, avg_diff_zelfde_jaar], [1, avg_diff_een], [2, avg_diff_twee], [3, avg_diff_drie], [4, avg_diff_vier], [5, avg_diff_vijf], [6, avg_diff_zes], [7, avg_diff_zeven], [8, avg_diff_acht], [9, avg_diff_negen], [10, avg_diff_tien], [11, avg_diff_elf], [12, avg_diff_twaalf], [13, avg_diff_dertien], [14, avg_diff_veertien], [15, avg_diff_vijftien], [17, avg_diff_zeventien], [20, avg_diff_twintig], [21, avg_diff_21], [23, avg_diff_23], [35, avg_diff_35]]), columns=['Aantal Jaren', 'Verschil'])\n",
    "Dataset_verschil_imdb"
   ]
  },
  {
   "cell_type": "code",
   "execution_count": null,
   "metadata": {},
   "outputs": [],
   "source": [
    "Dataset_verschil_imdb.plot.scatter(x='Verschil', y='Aantal Jaren')"
   ]
  },
  {
   "cell_type": "code",
   "execution_count": null,
   "metadata": {},
   "outputs": [],
   "source": [
    "year = Dataset_verschil_imdb['Aantal Jaren']\n",
    "Verschil = Dataset_verschil_imdb[\"Verschil\"]\n",
    "plt.plot(year,Verschil)\n",
    "plt.xlabel('Jaren Verschil')\n",
    "plt.ylabel('Rating Verschil')\n",
    "plt.show()"
   ]
  },
  {
   "cell_type": "code",
   "execution_count": null,
   "metadata": {},
   "outputs": [],
   "source": []
  }
 ],
 "metadata": {
  "kernelspec": {
   "display_name": "Python 3",
   "language": "python",
   "name": "python3"
  },
  "language_info": {
   "codemirror_mode": {
    "name": "ipython",
    "version": 3
   },
   "file_extension": ".py",
   "mimetype": "text/x-python",
   "name": "python",
   "nbconvert_exporter": "python",
   "pygments_lexer": "ipython3",
   "version": "3.8.3"
  }
 },
 "nbformat": 4,
 "nbformat_minor": 4
}
